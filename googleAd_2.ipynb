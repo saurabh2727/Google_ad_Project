{
 "cells": [
  {
   "cell_type": "markdown",
   "metadata": {},
   "source": []
  },
  {
   "cell_type": "code",
   "execution_count": 1,
   "metadata": {},
   "outputs": [],
   "source": [
    "# import packages"
   ]
  },
  {
   "cell_type": "code",
   "execution_count": 2,
   "metadata": {},
   "outputs": [
    {
     "name": "stderr",
     "output_type": "stream",
     "text": [
      "C:\\Users\\saurabh\\Anaconda3\\lib\\site-packages\\sklearn\\ensemble\\weight_boosting.py:29: DeprecationWarning: numpy.core.umath_tests is an internal NumPy module and should not be imported. It will be removed in a future NumPy release.\n",
      "  from numpy.core.umath_tests import inner1d\n"
     ]
    }
   ],
   "source": [
    "import numpy as np\n",
    "import pandas as pd\n",
    "import matplotlib.pyplot as plt\n",
    "import seaborn as sns\n",
    "import warnings\n",
    "warnings.filterwarnings(\"ignore\")\n",
    "from sklearn.model_selection import cross_val_score\n",
    "from sklearn.preprocessing import LabelEncoder\n",
    "from sklearn.model_selection import train_test_split\n",
    "from sklearn.tree import DecisionTreeRegressor\n",
    "from sklearn import preprocessing\n",
    "from sklearn.ensemble import RandomForestRegressor\n",
    "from sklearn.metrics import mean_squared_error\n",
    "from sklearn.metrics import mean_absolute_error"
   ]
  },
  {
   "cell_type": "code",
   "execution_count": 3,
   "metadata": {},
   "outputs": [],
   "source": [
    "#Read the file using pandas and replacing all the missing values with '?'"
   ]
  },
  {
   "cell_type": "code",
   "execution_count": 4,
   "metadata": {},
   "outputs": [],
   "source": [
    "df = pd.read_csv(\"C:/Users/saurabh/Desktop/Kaggle/googleAd/advertising_train.csv\", na_values=['?'])"
   ]
  },
  {
   "cell_type": "code",
   "execution_count": 5,
   "metadata": {},
   "outputs": [
    {
     "data": {
      "text/plain": [
       "Index(['case_id', 'companyId', 'countryId', 'deviceType', 'day', 'dow',\n",
       "       'price1', 'price2', 'price3', 'ad_area', 'ad_ratio', 'requests',\n",
       "       'impression', 'cpc', 'ctr', 'viewability', 'ratio1', 'ratio2', 'ratio3',\n",
       "       'ratio4', 'ratio5', 'y'],\n",
       "      dtype='object')"
      ]
     },
     "execution_count": 5,
     "metadata": {},
     "output_type": "execute_result"
    }
   ],
   "source": [
    "df.columns"
   ]
  },
  {
   "cell_type": "code",
   "execution_count": 6,
   "metadata": {},
   "outputs": [],
   "source": [
    "# display the top 5 rows of the dataset"
   ]
  },
  {
   "cell_type": "code",
   "execution_count": 7,
   "metadata": {},
   "outputs": [
    {
     "data": {
      "text/html": [
       "<div>\n",
       "<style scoped>\n",
       "    .dataframe tbody tr th:only-of-type {\n",
       "        vertical-align: middle;\n",
       "    }\n",
       "\n",
       "    .dataframe tbody tr th {\n",
       "        vertical-align: top;\n",
       "    }\n",
       "\n",
       "    .dataframe thead th {\n",
       "        text-align: right;\n",
       "    }\n",
       "</style>\n",
       "<table border=\"1\" class=\"dataframe\">\n",
       "  <thead>\n",
       "    <tr style=\"text-align: right;\">\n",
       "      <th></th>\n",
       "      <th>case_id</th>\n",
       "      <th>companyId</th>\n",
       "      <th>countryId</th>\n",
       "      <th>deviceType</th>\n",
       "      <th>day</th>\n",
       "      <th>dow</th>\n",
       "      <th>price1</th>\n",
       "      <th>price2</th>\n",
       "      <th>price3</th>\n",
       "      <th>ad_area</th>\n",
       "      <th>...</th>\n",
       "      <th>impression</th>\n",
       "      <th>cpc</th>\n",
       "      <th>ctr</th>\n",
       "      <th>viewability</th>\n",
       "      <th>ratio1</th>\n",
       "      <th>ratio2</th>\n",
       "      <th>ratio3</th>\n",
       "      <th>ratio4</th>\n",
       "      <th>ratio5</th>\n",
       "      <th>y</th>\n",
       "    </tr>\n",
       "  </thead>\n",
       "  <tbody>\n",
       "    <tr>\n",
       "      <th>0</th>\n",
       "      <td>1</td>\n",
       "      <td>95</td>\n",
       "      <td>234</td>\n",
       "      <td>1</td>\n",
       "      <td>1</td>\n",
       "      <td>Saturday</td>\n",
       "      <td>0.11</td>\n",
       "      <td>0.30</td>\n",
       "      <td>0.6000</td>\n",
       "      <td>7.5000</td>\n",
       "      <td>...</td>\n",
       "      <td>4350</td>\n",
       "      <td>0.6291</td>\n",
       "      <td>0.0011</td>\n",
       "      <td>0.0557</td>\n",
       "      <td>0.8630</td>\n",
       "      <td>0.4811</td>\n",
       "      <td>0.0646</td>\n",
       "      <td>0.3097</td>\n",
       "      <td>0.6257</td>\n",
       "      <td>0.250111</td>\n",
       "    </tr>\n",
       "    <tr>\n",
       "      <th>1</th>\n",
       "      <td>2</td>\n",
       "      <td>43</td>\n",
       "      <td>57</td>\n",
       "      <td>2</td>\n",
       "      <td>1</td>\n",
       "      <td>Saturday</td>\n",
       "      <td>0.00</td>\n",
       "      <td>0.00</td>\n",
       "      <td>0.0000</td>\n",
       "      <td>24.2500</td>\n",
       "      <td>...</td>\n",
       "      <td>1023</td>\n",
       "      <td>0.1887</td>\n",
       "      <td>0.0039</td>\n",
       "      <td>0.4495</td>\n",
       "      <td>1.0000</td>\n",
       "      <td>0.6109</td>\n",
       "      <td>1.0000</td>\n",
       "      <td>0.0000</td>\n",
       "      <td>0.0000</td>\n",
       "      <td>0.816571</td>\n",
       "    </tr>\n",
       "    <tr>\n",
       "      <th>2</th>\n",
       "      <td>3</td>\n",
       "      <td>43</td>\n",
       "      <td>57</td>\n",
       "      <td>2</td>\n",
       "      <td>1</td>\n",
       "      <td>Saturday</td>\n",
       "      <td>0.78</td>\n",
       "      <td>1.10</td>\n",
       "      <td>2.1786</td>\n",
       "      <td>24.2500</td>\n",
       "      <td>...</td>\n",
       "      <td>0</td>\n",
       "      <td>0.0000</td>\n",
       "      <td>0.0000</td>\n",
       "      <td>0.0000</td>\n",
       "      <td>0.0000</td>\n",
       "      <td>0.0000</td>\n",
       "      <td>0.0000</td>\n",
       "      <td>0.0000</td>\n",
       "      <td>0.0000</td>\n",
       "      <td>1.035484</td>\n",
       "    </tr>\n",
       "    <tr>\n",
       "      <th>3</th>\n",
       "      <td>4</td>\n",
       "      <td>43</td>\n",
       "      <td>57</td>\n",
       "      <td>2</td>\n",
       "      <td>1</td>\n",
       "      <td>Saturday</td>\n",
       "      <td>0.78</td>\n",
       "      <td>1.10</td>\n",
       "      <td>2.1786</td>\n",
       "      <td>24.2500</td>\n",
       "      <td>...</td>\n",
       "      <td>1038</td>\n",
       "      <td>0.5028</td>\n",
       "      <td>0.0019</td>\n",
       "      <td>0.1883</td>\n",
       "      <td>0.6474</td>\n",
       "      <td>0.9595</td>\n",
       "      <td>1.0000</td>\n",
       "      <td>0.0000</td>\n",
       "      <td>0.0000</td>\n",
       "      <td>0.351807</td>\n",
       "    </tr>\n",
       "    <tr>\n",
       "      <th>4</th>\n",
       "      <td>5</td>\n",
       "      <td>43</td>\n",
       "      <td>29</td>\n",
       "      <td>2</td>\n",
       "      <td>1</td>\n",
       "      <td>Saturday</td>\n",
       "      <td>4.56</td>\n",
       "      <td>4.56</td>\n",
       "      <td>4.5626</td>\n",
       "      <td>0.0001</td>\n",
       "      <td>...</td>\n",
       "      <td>27</td>\n",
       "      <td>0.0093</td>\n",
       "      <td>0.4444</td>\n",
       "      <td>0.8750</td>\n",
       "      <td>1.0000</td>\n",
       "      <td>1.0000</td>\n",
       "      <td>1.0000</td>\n",
       "      <td>0.0000</td>\n",
       "      <td>0.0000</td>\n",
       "      <td>0.067901</td>\n",
       "    </tr>\n",
       "  </tbody>\n",
       "</table>\n",
       "<p>5 rows × 22 columns</p>\n",
       "</div>"
      ],
      "text/plain": [
       "   case_id  companyId  countryId  deviceType  day       dow  price1  price2  \\\n",
       "0        1         95        234           1    1  Saturday    0.11    0.30   \n",
       "1        2         43         57           2    1  Saturday    0.00    0.00   \n",
       "2        3         43         57           2    1  Saturday    0.78    1.10   \n",
       "3        4         43         57           2    1  Saturday    0.78    1.10   \n",
       "4        5         43         29           2    1  Saturday    4.56    4.56   \n",
       "\n",
       "   price3  ad_area    ...     impression     cpc     ctr  viewability  ratio1  \\\n",
       "0  0.6000   7.5000    ...           4350  0.6291  0.0011       0.0557  0.8630   \n",
       "1  0.0000  24.2500    ...           1023  0.1887  0.0039       0.4495  1.0000   \n",
       "2  2.1786  24.2500    ...              0  0.0000  0.0000       0.0000  0.0000   \n",
       "3  2.1786  24.2500    ...           1038  0.5028  0.0019       0.1883  0.6474   \n",
       "4  4.5626   0.0001    ...             27  0.0093  0.4444       0.8750  1.0000   \n",
       "\n",
       "   ratio2  ratio3  ratio4  ratio5         y  \n",
       "0  0.4811  0.0646  0.3097  0.6257  0.250111  \n",
       "1  0.6109  1.0000  0.0000  0.0000  0.816571  \n",
       "2  0.0000  0.0000  0.0000  0.0000  1.035484  \n",
       "3  0.9595  1.0000  0.0000  0.0000  0.351807  \n",
       "4  1.0000  1.0000  0.0000  0.0000  0.067901  \n",
       "\n",
       "[5 rows x 22 columns]"
      ]
     },
     "execution_count": 7,
     "metadata": {},
     "output_type": "execute_result"
    }
   ],
   "source": [
    "df.head()"
   ]
  },
  {
   "cell_type": "code",
   "execution_count": 8,
   "metadata": {},
   "outputs": [
    {
     "data": {
      "text/plain": [
       "case_id        0\n",
       "companyId      0\n",
       "countryId      0\n",
       "deviceType     0\n",
       "day            0\n",
       "dow            0\n",
       "price1         0\n",
       "price2         0\n",
       "price3         0\n",
       "ad_area        0\n",
       "ad_ratio       0\n",
       "requests       0\n",
       "impression     0\n",
       "cpc            0\n",
       "ctr            0\n",
       "viewability    0\n",
       "ratio1         0\n",
       "ratio2         0\n",
       "ratio3         0\n",
       "ratio4         0\n",
       "ratio5         0\n",
       "y              0\n",
       "dtype: int64"
      ]
     },
     "execution_count": 8,
     "metadata": {},
     "output_type": "execute_result"
    }
   ],
   "source": [
    "df.isnull().sum()"
   ]
  },
  {
   "cell_type": "markdown",
   "metadata": {},
   "source": [
    "fig, ax = plt.subplots(figsize=(5, 8))\n",
    "sns.countplot(df['y'])\n",
    "plt.title('Target values')"
   ]
  },
  {
   "cell_type": "code",
   "execution_count": 9,
   "metadata": {},
   "outputs": [],
   "source": [
    "# Show all the statistical measures of the data set using describe function"
   ]
  },
  {
   "cell_type": "code",
   "execution_count": 10,
   "metadata": {},
   "outputs": [
    {
     "data": {
      "text/html": [
       "<div>\n",
       "<style scoped>\n",
       "    .dataframe tbody tr th:only-of-type {\n",
       "        vertical-align: middle;\n",
       "    }\n",
       "\n",
       "    .dataframe tbody tr th {\n",
       "        vertical-align: top;\n",
       "    }\n",
       "\n",
       "    .dataframe thead th {\n",
       "        text-align: right;\n",
       "    }\n",
       "</style>\n",
       "<table border=\"1\" class=\"dataframe\">\n",
       "  <thead>\n",
       "    <tr style=\"text-align: right;\">\n",
       "      <th></th>\n",
       "      <th>case_id</th>\n",
       "      <th>companyId</th>\n",
       "      <th>countryId</th>\n",
       "      <th>deviceType</th>\n",
       "      <th>day</th>\n",
       "      <th>price1</th>\n",
       "      <th>price2</th>\n",
       "      <th>price3</th>\n",
       "      <th>ad_area</th>\n",
       "      <th>ad_ratio</th>\n",
       "      <th>...</th>\n",
       "      <th>impression</th>\n",
       "      <th>cpc</th>\n",
       "      <th>ctr</th>\n",
       "      <th>viewability</th>\n",
       "      <th>ratio1</th>\n",
       "      <th>ratio2</th>\n",
       "      <th>ratio3</th>\n",
       "      <th>ratio4</th>\n",
       "      <th>ratio5</th>\n",
       "      <th>y</th>\n",
       "    </tr>\n",
       "  </thead>\n",
       "  <tbody>\n",
       "    <tr>\n",
       "      <th>count</th>\n",
       "      <td>214128.000000</td>\n",
       "      <td>214128.000000</td>\n",
       "      <td>214128.000000</td>\n",
       "      <td>214128.000000</td>\n",
       "      <td>214128.000000</td>\n",
       "      <td>214128.000000</td>\n",
       "      <td>214128.000000</td>\n",
       "      <td>214128.000000</td>\n",
       "      <td>214128.000000</td>\n",
       "      <td>214128.000000</td>\n",
       "      <td>...</td>\n",
       "      <td>2.141280e+05</td>\n",
       "      <td>214128.000000</td>\n",
       "      <td>214128.000000</td>\n",
       "      <td>214128.000000</td>\n",
       "      <td>214128.000000</td>\n",
       "      <td>214128.000000</td>\n",
       "      <td>214128.000000</td>\n",
       "      <td>214128.000000</td>\n",
       "      <td>214128.000000</td>\n",
       "      <td>214128.000000</td>\n",
       "    </tr>\n",
       "    <tr>\n",
       "      <th>mean</th>\n",
       "      <td>107064.500000</td>\n",
       "      <td>73.332988</td>\n",
       "      <td>119.496180</td>\n",
       "      <td>1.875612</td>\n",
       "      <td>15.790522</td>\n",
       "      <td>0.438229</td>\n",
       "      <td>0.630178</td>\n",
       "      <td>0.932436</td>\n",
       "      <td>4.724445</td>\n",
       "      <td>0.923402</td>\n",
       "      <td>...</td>\n",
       "      <td>5.585714e+03</td>\n",
       "      <td>0.177862</td>\n",
       "      <td>0.032921</td>\n",
       "      <td>0.377929</td>\n",
       "      <td>0.558284</td>\n",
       "      <td>0.491079</td>\n",
       "      <td>0.311646</td>\n",
       "      <td>0.131008</td>\n",
       "      <td>0.188300</td>\n",
       "      <td>0.847004</td>\n",
       "    </tr>\n",
       "    <tr>\n",
       "      <th>std</th>\n",
       "      <td>61813.573558</td>\n",
       "      <td>47.817556</td>\n",
       "      <td>76.129206</td>\n",
       "      <td>0.787796</td>\n",
       "      <td>8.385557</td>\n",
       "      <td>1.281403</td>\n",
       "      <td>1.481552</td>\n",
       "      <td>1.839991</td>\n",
       "      <td>6.273410</td>\n",
       "      <td>0.482055</td>\n",
       "      <td>...</td>\n",
       "      <td>9.871334e+04</td>\n",
       "      <td>0.707260</td>\n",
       "      <td>0.092502</td>\n",
       "      <td>0.365938</td>\n",
       "      <td>0.446955</td>\n",
       "      <td>0.414312</td>\n",
       "      <td>0.444088</td>\n",
       "      <td>0.239758</td>\n",
       "      <td>0.297121</td>\n",
       "      <td>1.390593</td>\n",
       "    </tr>\n",
       "    <tr>\n",
       "      <th>min</th>\n",
       "      <td>1.000000</td>\n",
       "      <td>40.000000</td>\n",
       "      <td>1.000000</td>\n",
       "      <td>1.000000</td>\n",
       "      <td>1.000000</td>\n",
       "      <td>0.000000</td>\n",
       "      <td>0.000000</td>\n",
       "      <td>0.000000</td>\n",
       "      <td>0.000100</td>\n",
       "      <td>0.083330</td>\n",
       "      <td>...</td>\n",
       "      <td>0.000000e+00</td>\n",
       "      <td>0.000000</td>\n",
       "      <td>0.000000</td>\n",
       "      <td>0.000000</td>\n",
       "      <td>0.000000</td>\n",
       "      <td>0.000000</td>\n",
       "      <td>0.000000</td>\n",
       "      <td>0.000000</td>\n",
       "      <td>0.000000</td>\n",
       "      <td>0.000098</td>\n",
       "    </tr>\n",
       "    <tr>\n",
       "      <th>25%</th>\n",
       "      <td>53532.750000</td>\n",
       "      <td>43.000000</td>\n",
       "      <td>56.000000</td>\n",
       "      <td>1.000000</td>\n",
       "      <td>9.000000</td>\n",
       "      <td>0.000000</td>\n",
       "      <td>0.000000</td>\n",
       "      <td>0.000000</td>\n",
       "      <td>0.000100</td>\n",
       "      <td>0.833330</td>\n",
       "      <td>...</td>\n",
       "      <td>0.000000e+00</td>\n",
       "      <td>0.000000</td>\n",
       "      <td>0.000000</td>\n",
       "      <td>0.000000</td>\n",
       "      <td>0.000000</td>\n",
       "      <td>0.000000</td>\n",
       "      <td>0.000000</td>\n",
       "      <td>0.000000</td>\n",
       "      <td>0.000000</td>\n",
       "      <td>0.150415</td>\n",
       "    </tr>\n",
       "    <tr>\n",
       "      <th>50%</th>\n",
       "      <td>107064.500000</td>\n",
       "      <td>43.000000</td>\n",
       "      <td>102.000000</td>\n",
       "      <td>2.000000</td>\n",
       "      <td>16.000000</td>\n",
       "      <td>0.010000</td>\n",
       "      <td>0.090000</td>\n",
       "      <td>0.294800</td>\n",
       "      <td>0.000100</td>\n",
       "      <td>1.000000</td>\n",
       "      <td>...</td>\n",
       "      <td>9.900000e+01</td>\n",
       "      <td>0.015700</td>\n",
       "      <td>0.001700</td>\n",
       "      <td>0.331500</td>\n",
       "      <td>0.750000</td>\n",
       "      <td>0.627100</td>\n",
       "      <td>0.027600</td>\n",
       "      <td>0.000000</td>\n",
       "      <td>0.000000</td>\n",
       "      <td>0.419000</td>\n",
       "    </tr>\n",
       "    <tr>\n",
       "      <th>75%</th>\n",
       "      <td>160596.250000</td>\n",
       "      <td>95.000000</td>\n",
       "      <td>197.000000</td>\n",
       "      <td>2.000000</td>\n",
       "      <td>23.000000</td>\n",
       "      <td>0.190000</td>\n",
       "      <td>0.570000</td>\n",
       "      <td>0.985650</td>\n",
       "      <td>7.500000</td>\n",
       "      <td>1.000000</td>\n",
       "      <td>...</td>\n",
       "      <td>1.058000e+03</td>\n",
       "      <td>0.125200</td>\n",
       "      <td>0.012000</td>\n",
       "      <td>0.715900</td>\n",
       "      <td>1.000000</td>\n",
       "      <td>0.895700</td>\n",
       "      <td>1.000000</td>\n",
       "      <td>0.163600</td>\n",
       "      <td>0.384700</td>\n",
       "      <td>0.959048</td>\n",
       "    </tr>\n",
       "    <tr>\n",
       "      <th>max</th>\n",
       "      <td>214128.000000</td>\n",
       "      <td>159.000000</td>\n",
       "      <td>251.000000</td>\n",
       "      <td>5.000000</td>\n",
       "      <td>30.000000</td>\n",
       "      <td>14.690000</td>\n",
       "      <td>63.120000</td>\n",
       "      <td>78.900000</td>\n",
       "      <td>36.000000</td>\n",
       "      <td>5.000000</td>\n",
       "      <td>...</td>\n",
       "      <td>6.100324e+06</td>\n",
       "      <td>132.533900</td>\n",
       "      <td>2.000000</td>\n",
       "      <td>7.000000</td>\n",
       "      <td>1.000000</td>\n",
       "      <td>1.027000</td>\n",
       "      <td>1.500000</td>\n",
       "      <td>1.076900</td>\n",
       "      <td>1.200000</td>\n",
       "      <td>47.060000</td>\n",
       "    </tr>\n",
       "  </tbody>\n",
       "</table>\n",
       "<p>8 rows × 21 columns</p>\n",
       "</div>"
      ],
      "text/plain": [
       "             case_id      companyId      countryId     deviceType  \\\n",
       "count  214128.000000  214128.000000  214128.000000  214128.000000   \n",
       "mean   107064.500000      73.332988     119.496180       1.875612   \n",
       "std     61813.573558      47.817556      76.129206       0.787796   \n",
       "min         1.000000      40.000000       1.000000       1.000000   \n",
       "25%     53532.750000      43.000000      56.000000       1.000000   \n",
       "50%    107064.500000      43.000000     102.000000       2.000000   \n",
       "75%    160596.250000      95.000000     197.000000       2.000000   \n",
       "max    214128.000000     159.000000     251.000000       5.000000   \n",
       "\n",
       "                 day         price1         price2         price3  \\\n",
       "count  214128.000000  214128.000000  214128.000000  214128.000000   \n",
       "mean       15.790522       0.438229       0.630178       0.932436   \n",
       "std         8.385557       1.281403       1.481552       1.839991   \n",
       "min         1.000000       0.000000       0.000000       0.000000   \n",
       "25%         9.000000       0.000000       0.000000       0.000000   \n",
       "50%        16.000000       0.010000       0.090000       0.294800   \n",
       "75%        23.000000       0.190000       0.570000       0.985650   \n",
       "max        30.000000      14.690000      63.120000      78.900000   \n",
       "\n",
       "             ad_area       ad_ratio      ...          impression  \\\n",
       "count  214128.000000  214128.000000      ...        2.141280e+05   \n",
       "mean        4.724445       0.923402      ...        5.585714e+03   \n",
       "std         6.273410       0.482055      ...        9.871334e+04   \n",
       "min         0.000100       0.083330      ...        0.000000e+00   \n",
       "25%         0.000100       0.833330      ...        0.000000e+00   \n",
       "50%         0.000100       1.000000      ...        9.900000e+01   \n",
       "75%         7.500000       1.000000      ...        1.058000e+03   \n",
       "max        36.000000       5.000000      ...        6.100324e+06   \n",
       "\n",
       "                 cpc            ctr    viewability         ratio1  \\\n",
       "count  214128.000000  214128.000000  214128.000000  214128.000000   \n",
       "mean        0.177862       0.032921       0.377929       0.558284   \n",
       "std         0.707260       0.092502       0.365938       0.446955   \n",
       "min         0.000000       0.000000       0.000000       0.000000   \n",
       "25%         0.000000       0.000000       0.000000       0.000000   \n",
       "50%         0.015700       0.001700       0.331500       0.750000   \n",
       "75%         0.125200       0.012000       0.715900       1.000000   \n",
       "max       132.533900       2.000000       7.000000       1.000000   \n",
       "\n",
       "              ratio2         ratio3         ratio4         ratio5  \\\n",
       "count  214128.000000  214128.000000  214128.000000  214128.000000   \n",
       "mean        0.491079       0.311646       0.131008       0.188300   \n",
       "std         0.414312       0.444088       0.239758       0.297121   \n",
       "min         0.000000       0.000000       0.000000       0.000000   \n",
       "25%         0.000000       0.000000       0.000000       0.000000   \n",
       "50%         0.627100       0.027600       0.000000       0.000000   \n",
       "75%         0.895700       1.000000       0.163600       0.384700   \n",
       "max         1.027000       1.500000       1.076900       1.200000   \n",
       "\n",
       "                   y  \n",
       "count  214128.000000  \n",
       "mean        0.847004  \n",
       "std         1.390593  \n",
       "min         0.000098  \n",
       "25%         0.150415  \n",
       "50%         0.419000  \n",
       "75%         0.959048  \n",
       "max        47.060000  \n",
       "\n",
       "[8 rows x 21 columns]"
      ]
     },
     "execution_count": 10,
     "metadata": {},
     "output_type": "execute_result"
    }
   ],
   "source": [
    "df.describe()"
   ]
  },
  {
   "cell_type": "code",
   "execution_count": 11,
   "metadata": {},
   "outputs": [
    {
     "data": {
      "image/png": "[encoded data removed]",
      "text/plain": [
       "<Figure size 1152x576 with 1 Axes>"
      ]
     },
     "metadata": {
      "needs_background": "light"
     },
     "output_type": "display_data"
    }
   ],
   "source": [
    "fig, ax = plt.subplots(figsize=(16,8))\n",
    "ax.scatter(df['deviceType'], df['y'])\n",
    "ax.set_xlabel('deviceType')\n",
    "ax.set_ylabel('y')\n",
    "plt.show()"
   ]
  },
  {
   "cell_type": "code",
   "execution_count": 12,
   "metadata": {},
   "outputs": [
    {
     "name": "stdout",
     "output_type": "stream",
     "text": [
      "Find most important features relative to target\n",
      "y              1.000000\n",
      "ctr            0.197221\n",
      "price3         0.175244\n",
      "price2         0.159668\n",
      "viewability    0.158794\n",
      "price1         0.128919\n",
      "deviceType     0.102837\n",
      "ratio1         0.072412\n",
      "ratio3         0.069926\n",
      "day            0.064433\n",
      "case_id        0.064384\n",
      "ratio4         0.042551\n",
      "cpc            0.017002\n",
      "ratio2         0.012939\n",
      "impression    -0.024683\n",
      "ad_ratio      -0.027756\n",
      "requests      -0.029436\n",
      "countryId     -0.032213\n",
      "ad_area       -0.049349\n",
      "ratio5        -0.063455\n",
      "companyId     -0.160549\n",
      "Name: y, dtype: float64\n"
     ]
    }
   ],
   "source": [
    "# Find most important features relative to target\n",
    "print(\"Find most important features relative to target\")\n",
    "corr = df.corr()\n",
    "corr.sort_values([\"y\"], ascending = False, inplace = True)\n",
    "print(corr.y)"
   ]
  },
  {
   "cell_type": "code",
   "execution_count": 13,
   "metadata": {},
   "outputs": [
    {
     "data": {
      "text/plain": [
       "case_id          int64\n",
       "companyId        int64\n",
       "countryId        int64\n",
       "deviceType       int64\n",
       "day              int64\n",
       "dow             object\n",
       "price1         float64\n",
       "price2         float64\n",
       "price3         float64\n",
       "ad_area        float64\n",
       "ad_ratio       float64\n",
       "requests         int64\n",
       "impression       int64\n",
       "cpc            float64\n",
       "ctr            float64\n",
       "viewability    float64\n",
       "ratio1         float64\n",
       "ratio2         float64\n",
       "ratio3         float64\n",
       "ratio4         float64\n",
       "ratio5         float64\n",
       "y              float64\n",
       "dtype: object"
      ]
     },
     "execution_count": 13,
     "metadata": {},
     "output_type": "execute_result"
    }
   ],
   "source": [
    "df.dtypes"
   ]
  },
  {
   "cell_type": "code",
   "execution_count": 14,
   "metadata": {},
   "outputs": [],
   "source": [
    "df[\"deviceType\"] = df[\"deviceType\"].astype('category')\n",
    "df[\"day\"] = df[\"day\"].astype('category')\n",
    "df[\"case_id\"] = df[\"case_id\"].astype('category')\n",
    "df[\"countryId\"] = df[\"countryId\"].astype('category')\n",
    "df[\"companyId\"] = df[\"companyId\"].astype('category')"
   ]
  },
  {
   "cell_type": "code",
   "execution_count": 15,
   "metadata": {},
   "outputs": [
    {
     "data": {
      "text/plain": [
       "214128"
      ]
     },
     "execution_count": 15,
     "metadata": {},
     "output_type": "execute_result"
    }
   ],
   "source": [
    "df[\"deviceType\"].count()"
   ]
  },
  {
   "cell_type": "code",
   "execution_count": 16,
   "metadata": {},
   "outputs": [],
   "source": [
    "df['IR_Ratio'] = df['impression']/df['requests']\n",
    "#df.dropna(inplace = True)"
   ]
  },
  {
   "cell_type": "code",
   "execution_count": 17,
   "metadata": {},
   "outputs": [
    {
     "data": {
      "text/plain": [
       "214128"
      ]
     },
     "execution_count": 17,
     "metadata": {},
     "output_type": "execute_result"
    }
   ],
   "source": [
    "df[\"deviceType\"].count()"
   ]
  },
  {
   "cell_type": "code",
   "execution_count": 18,
   "metadata": {},
   "outputs": [],
   "source": [
    "df= df.drop([ 'case_id','companyId','countryId','day', 'dow', 'impression', 'requests', 'ad_area', 'ad_ratio', 'ratio5'], axis =1)\n"
   ]
  },
  {
   "cell_type": "code",
   "execution_count": 19,
   "metadata": {},
   "outputs": [
    {
     "data": {
      "text/plain": [
       "214128"
      ]
     },
     "execution_count": 19,
     "metadata": {},
     "output_type": "execute_result"
    }
   ],
   "source": [
    "df[\"deviceType\"].count()"
   ]
  },
  {
   "cell_type": "code",
   "execution_count": 20,
   "metadata": {},
   "outputs": [
    {
     "data": {
      "text/html": [
       "<div>\n",
       "<style scoped>\n",
       "    .dataframe tbody tr th:only-of-type {\n",
       "        vertical-align: middle;\n",
       "    }\n",
       "\n",
       "    .dataframe tbody tr th {\n",
       "        vertical-align: top;\n",
       "    }\n",
       "\n",
       "    .dataframe thead th {\n",
       "        text-align: right;\n",
       "    }\n",
       "</style>\n",
       "<table border=\"1\" class=\"dataframe\">\n",
       "  <thead>\n",
       "    <tr style=\"text-align: right;\">\n",
       "      <th></th>\n",
       "      <th>deviceType</th>\n",
       "      <th>price1</th>\n",
       "      <th>price2</th>\n",
       "      <th>price3</th>\n",
       "      <th>cpc</th>\n",
       "      <th>ctr</th>\n",
       "      <th>viewability</th>\n",
       "      <th>ratio1</th>\n",
       "      <th>ratio2</th>\n",
       "      <th>ratio3</th>\n",
       "      <th>ratio4</th>\n",
       "      <th>y</th>\n",
       "      <th>IR_Ratio</th>\n",
       "    </tr>\n",
       "  </thead>\n",
       "  <tbody>\n",
       "    <tr>\n",
       "      <th>0</th>\n",
       "      <td>1</td>\n",
       "      <td>0.11</td>\n",
       "      <td>0.30</td>\n",
       "      <td>0.6000</td>\n",
       "      <td>0.6291</td>\n",
       "      <td>0.0011</td>\n",
       "      <td>0.0557</td>\n",
       "      <td>0.8630</td>\n",
       "      <td>0.4811</td>\n",
       "      <td>0.0646</td>\n",
       "      <td>0.3097</td>\n",
       "      <td>0.250111</td>\n",
       "      <td>0.411270</td>\n",
       "    </tr>\n",
       "    <tr>\n",
       "      <th>1</th>\n",
       "      <td>2</td>\n",
       "      <td>0.00</td>\n",
       "      <td>0.00</td>\n",
       "      <td>0.0000</td>\n",
       "      <td>0.1887</td>\n",
       "      <td>0.0039</td>\n",
       "      <td>0.4495</td>\n",
       "      <td>1.0000</td>\n",
       "      <td>0.6109</td>\n",
       "      <td>1.0000</td>\n",
       "      <td>0.0000</td>\n",
       "      <td>0.816571</td>\n",
       "      <td>1.000000</td>\n",
       "    </tr>\n",
       "    <tr>\n",
       "      <th>2</th>\n",
       "      <td>2</td>\n",
       "      <td>0.78</td>\n",
       "      <td>1.10</td>\n",
       "      <td>2.1786</td>\n",
       "      <td>0.0000</td>\n",
       "      <td>0.0000</td>\n",
       "      <td>0.0000</td>\n",
       "      <td>0.0000</td>\n",
       "      <td>0.0000</td>\n",
       "      <td>0.0000</td>\n",
       "      <td>0.0000</td>\n",
       "      <td>1.035484</td>\n",
       "      <td>NaN</td>\n",
       "    </tr>\n",
       "    <tr>\n",
       "      <th>3</th>\n",
       "      <td>2</td>\n",
       "      <td>0.78</td>\n",
       "      <td>1.10</td>\n",
       "      <td>2.1786</td>\n",
       "      <td>0.5028</td>\n",
       "      <td>0.0019</td>\n",
       "      <td>0.1883</td>\n",
       "      <td>0.6474</td>\n",
       "      <td>0.9595</td>\n",
       "      <td>1.0000</td>\n",
       "      <td>0.0000</td>\n",
       "      <td>0.351807</td>\n",
       "      <td>0.208979</td>\n",
       "    </tr>\n",
       "    <tr>\n",
       "      <th>4</th>\n",
       "      <td>2</td>\n",
       "      <td>4.56</td>\n",
       "      <td>4.56</td>\n",
       "      <td>4.5626</td>\n",
       "      <td>0.0093</td>\n",
       "      <td>0.4444</td>\n",
       "      <td>0.8750</td>\n",
       "      <td>1.0000</td>\n",
       "      <td>1.0000</td>\n",
       "      <td>1.0000</td>\n",
       "      <td>0.0000</td>\n",
       "      <td>0.067901</td>\n",
       "      <td>0.018157</td>\n",
       "    </tr>\n",
       "  </tbody>\n",
       "</table>\n",
       "</div>"
      ],
      "text/plain": [
       "  deviceType  price1  price2  price3     cpc     ctr  viewability  ratio1  \\\n",
       "0          1    0.11    0.30  0.6000  0.6291  0.0011       0.0557  0.8630   \n",
       "1          2    0.00    0.00  0.0000  0.1887  0.0039       0.4495  1.0000   \n",
       "2          2    0.78    1.10  2.1786  0.0000  0.0000       0.0000  0.0000   \n",
       "3          2    0.78    1.10  2.1786  0.5028  0.0019       0.1883  0.6474   \n",
       "4          2    4.56    4.56  4.5626  0.0093  0.4444       0.8750  1.0000   \n",
       "\n",
       "   ratio2  ratio3  ratio4         y  IR_Ratio  \n",
       "0  0.4811  0.0646  0.3097  0.250111  0.411270  \n",
       "1  0.6109  1.0000  0.0000  0.816571  1.000000  \n",
       "2  0.0000  0.0000  0.0000  1.035484       NaN  \n",
       "3  0.9595  1.0000  0.0000  0.351807  0.208979  \n",
       "4  1.0000  1.0000  0.0000  0.067901  0.018157  "
      ]
     },
     "execution_count": 20,
     "metadata": {},
     "output_type": "execute_result"
    }
   ],
   "source": [
    "df.head()"
   ]
  },
  {
   "cell_type": "code",
   "execution_count": 21,
   "metadata": {},
   "outputs": [
    {
     "name": "stdout",
     "output_type": "stream",
     "text": [
      "Find most important features relative to target\n"
     ]
    },
    {
     "ename": "NameError",
     "evalue": "name 'df_3' is not defined",
     "output_type": "error",
     "traceback": [
      "\u001b[1;31m---------------------------------------------------------------------------\u001b[0m",
      "\u001b[1;31mNameError\u001b[0m                                 Traceback (most recent call last)",
      "\u001b[1;32m<ipython-input-21-5cc0d8b7f88c>\u001b[0m in \u001b[0;36m<module>\u001b[1;34m()\u001b[0m\n\u001b[0;32m      1\u001b[0m \u001b[1;31m# Find most important features relative to target\u001b[0m\u001b[1;33m\u001b[0m\u001b[1;33m\u001b[0m\u001b[0m\n\u001b[0;32m      2\u001b[0m \u001b[0mprint\u001b[0m\u001b[1;33m(\u001b[0m\u001b[1;34m\"Find most important features relative to target\"\u001b[0m\u001b[1;33m)\u001b[0m\u001b[1;33m\u001b[0m\u001b[0m\n\u001b[1;32m----> 3\u001b[1;33m \u001b[0mcorr\u001b[0m \u001b[1;33m=\u001b[0m \u001b[0mdf_3\u001b[0m\u001b[1;33m.\u001b[0m\u001b[0mcorr\u001b[0m\u001b[1;33m(\u001b[0m\u001b[1;33m)\u001b[0m\u001b[1;33m\u001b[0m\u001b[0m\n\u001b[0m\u001b[0;32m      4\u001b[0m \u001b[0mcorr\u001b[0m\u001b[1;33m.\u001b[0m\u001b[0msort_values\u001b[0m\u001b[1;33m(\u001b[0m\u001b[1;33m[\u001b[0m\u001b[1;34m\"y\"\u001b[0m\u001b[1;33m]\u001b[0m\u001b[1;33m,\u001b[0m \u001b[0mascending\u001b[0m \u001b[1;33m=\u001b[0m \u001b[1;32mFalse\u001b[0m\u001b[1;33m,\u001b[0m \u001b[0minplace\u001b[0m \u001b[1;33m=\u001b[0m \u001b[1;32mTrue\u001b[0m\u001b[1;33m)\u001b[0m\u001b[1;33m\u001b[0m\u001b[0m\n\u001b[0;32m      5\u001b[0m \u001b[0mprint\u001b[0m\u001b[1;33m(\u001b[0m\u001b[0mcorr\u001b[0m\u001b[1;33m.\u001b[0m\u001b[0my\u001b[0m\u001b[1;33m)\u001b[0m\u001b[1;33m\u001b[0m\u001b[0m\n",
      "\u001b[1;31mNameError\u001b[0m: name 'df_3' is not defined"
     ]
    }
   ],
   "source": [
    "# Find most important features relative to target\n",
    "print(\"Find most important features relative to target\")\n",
    "corr = df_3.corr()\n",
    "corr.sort_values([\"y\"], ascending = False, inplace = True)\n",
    "print(corr.y)"
   ]
  },
  {
   "cell_type": "code",
   "execution_count": 22,
   "metadata": {},
   "outputs": [],
   "source": [
    "def reject_outliers(data):\n",
    "    u = np.mean(data)\n",
    "    s = np.std(data)\n",
    "    f1 = u - 1.5*s\n",
    "    f2 = u + 1.5*s\n",
    "    filtered = np.where(data.between(f1,f2),data, data.median())\n",
    "    return filtered\n",
    "\n",
    "df['ctr'] = reject_outliers(df['ctr'])\n",
    "df['price1'] = reject_outliers(df['price1'])\n",
    "df['price2'] = reject_outliers(df['price2'])\n",
    "df['price3'] = reject_outliers(df['price3'] )\n",
    "df['viewability'] = reject_outliers(df['viewability'] )\n",
    "df['ratio1'] = reject_outliers(df['ratio1'])\n",
    "df['ratio2'] = reject_outliers(df['ratio2'])\n",
    "df['ratio3'] = reject_outliers(df['ratio3'])\n",
    "df['ratio4'] = reject_outliers(df['ratio4'])\n",
    "df['y'] = reject_outliers(df['y'])\n",
    "df['cpc'] = reject_outliers(df['cpc'])\n",
    "df['IR_Ratio'] = reject_outliers(df['IR_Ratio'])\n",
    "#df.dropna(inplace = True)\n",
    " "
   ]
  },
  {
   "cell_type": "code",
   "execution_count": 23,
   "metadata": {},
   "outputs": [
    {
     "data": {
      "text/html": [
       "<div>\n",
       "<style scoped>\n",
       "    .dataframe tbody tr th:only-of-type {\n",
       "        vertical-align: middle;\n",
       "    }\n",
       "\n",
       "    .dataframe tbody tr th {\n",
       "        vertical-align: top;\n",
       "    }\n",
       "\n",
       "    .dataframe thead th {\n",
       "        text-align: right;\n",
       "    }\n",
       "</style>\n",
       "<table border=\"1\" class=\"dataframe\">\n",
       "  <thead>\n",
       "    <tr style=\"text-align: right;\">\n",
       "      <th></th>\n",
       "      <th>price1</th>\n",
       "      <th>price2</th>\n",
       "      <th>price3</th>\n",
       "      <th>cpc</th>\n",
       "      <th>ctr</th>\n",
       "      <th>viewability</th>\n",
       "      <th>ratio1</th>\n",
       "      <th>ratio2</th>\n",
       "      <th>ratio3</th>\n",
       "      <th>ratio4</th>\n",
       "      <th>y</th>\n",
       "      <th>IR_Ratio</th>\n",
       "    </tr>\n",
       "  </thead>\n",
       "  <tbody>\n",
       "    <tr>\n",
       "      <th>count</th>\n",
       "      <td>214128.000000</td>\n",
       "      <td>214128.000000</td>\n",
       "      <td>214128.000000</td>\n",
       "      <td>214128.000000</td>\n",
       "      <td>214128.000000</td>\n",
       "      <td>214128.000000</td>\n",
       "      <td>214128.000000</td>\n",
       "      <td>214128.000000</td>\n",
       "      <td>214128.000000</td>\n",
       "      <td>214128.000000</td>\n",
       "      <td>214128.000000</td>\n",
       "      <td>214128.000000</td>\n",
       "    </tr>\n",
       "    <tr>\n",
       "      <th>mean</th>\n",
       "      <td>0.179764</td>\n",
       "      <td>0.306888</td>\n",
       "      <td>0.532105</td>\n",
       "      <td>0.101252</td>\n",
       "      <td>0.012863</td>\n",
       "      <td>0.319362</td>\n",
       "      <td>0.558284</td>\n",
       "      <td>0.491079</td>\n",
       "      <td>0.029459</td>\n",
       "      <td>0.049185</td>\n",
       "      <td>0.582308</td>\n",
       "      <td>0.817905</td>\n",
       "    </tr>\n",
       "    <tr>\n",
       "      <th>std</th>\n",
       "      <td>0.411170</td>\n",
       "      <td>0.519457</td>\n",
       "      <td>0.801491</td>\n",
       "      <td>0.197383</td>\n",
       "      <td>0.029352</td>\n",
       "      <td>0.311438</td>\n",
       "      <td>0.446955</td>\n",
       "      <td>0.414312</td>\n",
       "      <td>0.057809</td>\n",
       "      <td>0.112885</td>\n",
       "      <td>0.592761</td>\n",
       "      <td>0.152944</td>\n",
       "    </tr>\n",
       "    <tr>\n",
       "      <th>min</th>\n",
       "      <td>0.000000</td>\n",
       "      <td>0.000000</td>\n",
       "      <td>0.000000</td>\n",
       "      <td>0.000000</td>\n",
       "      <td>0.000000</td>\n",
       "      <td>0.000000</td>\n",
       "      <td>0.000000</td>\n",
       "      <td>0.000000</td>\n",
       "      <td>0.000000</td>\n",
       "      <td>0.000000</td>\n",
       "      <td>0.000098</td>\n",
       "      <td>0.315611</td>\n",
       "    </tr>\n",
       "    <tr>\n",
       "      <th>25%</th>\n",
       "      <td>0.000000</td>\n",
       "      <td>0.000000</td>\n",
       "      <td>0.000000</td>\n",
       "      <td>0.000000</td>\n",
       "      <td>0.000000</td>\n",
       "      <td>0.000000</td>\n",
       "      <td>0.000000</td>\n",
       "      <td>0.000000</td>\n",
       "      <td>0.000000</td>\n",
       "      <td>0.000000</td>\n",
       "      <td>0.150415</td>\n",
       "      <td>0.836412</td>\n",
       "    </tr>\n",
       "    <tr>\n",
       "      <th>50%</th>\n",
       "      <td>0.010000</td>\n",
       "      <td>0.090000</td>\n",
       "      <td>0.294800</td>\n",
       "      <td>0.015700</td>\n",
       "      <td>0.001700</td>\n",
       "      <td>0.331500</td>\n",
       "      <td>0.750000</td>\n",
       "      <td>0.627100</td>\n",
       "      <td>0.027600</td>\n",
       "      <td>0.000000</td>\n",
       "      <td>0.419000</td>\n",
       "      <td>0.836412</td>\n",
       "    </tr>\n",
       "    <tr>\n",
       "      <th>75%</th>\n",
       "      <td>0.120000</td>\n",
       "      <td>0.400000</td>\n",
       "      <td>0.725700</td>\n",
       "      <td>0.103900</td>\n",
       "      <td>0.006700</td>\n",
       "      <td>0.594900</td>\n",
       "      <td>1.000000</td>\n",
       "      <td>0.895700</td>\n",
       "      <td>0.027600</td>\n",
       "      <td>0.000000</td>\n",
       "      <td>0.791423</td>\n",
       "      <td>0.915254</td>\n",
       "    </tr>\n",
       "    <tr>\n",
       "      <th>max</th>\n",
       "      <td>2.360000</td>\n",
       "      <td>2.850000</td>\n",
       "      <td>3.692400</td>\n",
       "      <td>1.238600</td>\n",
       "      <td>0.171600</td>\n",
       "      <td>0.926800</td>\n",
       "      <td>1.000000</td>\n",
       "      <td>1.027000</td>\n",
       "      <td>0.977500</td>\n",
       "      <td>0.490600</td>\n",
       "      <td>2.932812</td>\n",
       "      <td>1.000000</td>\n",
       "    </tr>\n",
       "  </tbody>\n",
       "</table>\n",
       "</div>"
      ],
      "text/plain": [
       "              price1         price2         price3            cpc  \\\n",
       "count  214128.000000  214128.000000  214128.000000  214128.000000   \n",
       "mean        0.179764       0.306888       0.532105       0.101252   \n",
       "std         0.411170       0.519457       0.801491       0.197383   \n",
       "min         0.000000       0.000000       0.000000       0.000000   \n",
       "25%         0.000000       0.000000       0.000000       0.000000   \n",
       "50%         0.010000       0.090000       0.294800       0.015700   \n",
       "75%         0.120000       0.400000       0.725700       0.103900   \n",
       "max         2.360000       2.850000       3.692400       1.238600   \n",
       "\n",
       "                 ctr    viewability         ratio1         ratio2  \\\n",
       "count  214128.000000  214128.000000  214128.000000  214128.000000   \n",
       "mean        0.012863       0.319362       0.558284       0.491079   \n",
       "std         0.029352       0.311438       0.446955       0.414312   \n",
       "min         0.000000       0.000000       0.000000       0.000000   \n",
       "25%         0.000000       0.000000       0.000000       0.000000   \n",
       "50%         0.001700       0.331500       0.750000       0.627100   \n",
       "75%         0.006700       0.594900       1.000000       0.895700   \n",
       "max         0.171600       0.926800       1.000000       1.027000   \n",
       "\n",
       "              ratio3         ratio4              y       IR_Ratio  \n",
       "count  214128.000000  214128.000000  214128.000000  214128.000000  \n",
       "mean        0.029459       0.049185       0.582308       0.817905  \n",
       "std         0.057809       0.112885       0.592761       0.152944  \n",
       "min         0.000000       0.000000       0.000098       0.315611  \n",
       "25%         0.000000       0.000000       0.150415       0.836412  \n",
       "50%         0.027600       0.000000       0.419000       0.836412  \n",
       "75%         0.027600       0.000000       0.791423       0.915254  \n",
       "max         0.977500       0.490600       2.932812       1.000000  "
      ]
     },
     "execution_count": 23,
     "metadata": {},
     "output_type": "execute_result"
    }
   ],
   "source": [
    "df.describe()"
   ]
  },
  {
   "cell_type": "code",
   "execution_count": 24,
   "metadata": {},
   "outputs": [
    {
     "data": {
      "text/plain": [
       "Index(['deviceType', 'price1', 'price2', 'price3', 'cpc', 'ctr', 'viewability',\n",
       "       'ratio1', 'ratio2', 'ratio3', 'ratio4', 'y', 'IR_Ratio'],\n",
       "      dtype='object')"
      ]
     },
     "execution_count": 24,
     "metadata": {},
     "output_type": "execute_result"
    }
   ],
   "source": [
    "df.columns"
   ]
  },
  {
   "cell_type": "code",
   "execution_count": 25,
   "metadata": {},
   "outputs": [],
   "source": [
    "features=df[['deviceType', 'price1', 'price2', 'price3','cpc', 'ctr', 'viewability', 'ratio1', 'ratio2', 'ratio3', 'ratio4','IR_Ratio']].values\n",
    "label=df[['y']].values"
   ]
  },
  {
   "cell_type": "code",
   "execution_count": 26,
   "metadata": {},
   "outputs": [],
   "source": [
    "scaler = preprocessing.StandardScaler()\n",
    "features_scaled = scaler.fit_transform(features)\n",
    "label_scaled = scaler.fit_transform(label)"
   ]
  },
  {
   "cell_type": "code",
   "execution_count": 27,
   "metadata": {},
   "outputs": [],
   "source": [
    "#spliting the training and testing data, keeping 90% for testing and rest for training. I have futher splitted the train \n",
    "# data into validation and training data.\n",
    "from sklearn.model_selection import train_test_split\n",
    "x_train, x_test, y_train, y_test = train_test_split(features_scaled, label_scaled, test_size = 0.05, random_state = 42) "
   ]
  },
  {
   "cell_type": "code",
   "execution_count": 28,
   "metadata": {},
   "outputs": [],
   "source": [
    "from sklearn.base import BaseEstimator, TransformerMixin\n",
    "\n",
    "# custom function for RFI feature selection inside a pipeline\n",
    "# here we use n_estimators=100\n",
    "class RFIFeatureSelector(BaseEstimator, TransformerMixin):\n",
    "    \n",
    "    # class constructor \n",
    "    # make sure class attributes end with a \"_\"\n",
    "    # per scikit-learn convention to avoid errors\n",
    "    def __init__(self, n_features_=100):\n",
    "        self.n_features_ = n_features_\n",
    "        self.fs_indices_ = None\n",
    "\n",
    "    # override the fit function\n",
    "    def fit(self, X, y):\n",
    "        from sklearn.ensemble import RandomForestRegressor\n",
    "        from numpy import argsort\n",
    "        model_rfi = RandomForestRegressor(n_estimators=10)\n",
    "        model_rfi.fit(X, y)\n",
    "        self.fs_indices_ = argsort(model_rfi.feature_importances_)[::-1][0:self.n_features_] \n",
    "        return self \n",
    "    \n",
    "    # override the transform function\n",
    "    def transform(self, X, y=None):\n",
    "        return X[:, self.fs_indices_]"
   ]
  },
  {
   "cell_type": "code",
   "execution_count": null,
   "metadata": {},
   "outputs": [
    {
     "name": "stdout",
     "output_type": "stream",
     "text": [
      "Fitting 5 folds for each of 135 candidates, totalling 675 fits\n"
     ]
    }
   ],
   "source": [
    "# Random forest model, which calculates root mean squared error and mean absolute error\n",
    "from sklearn.ensemble import RandomForestRegressor\n",
    "from sklearn.pipeline import Pipeline\n",
    "from sklearn.model_selection import GridSearchCV\n",
    "\n",
    "\n",
    "rf_regressor = RandomForestRegressor(random_state=999)\n",
    "\n",
    "pipe_RF = Pipeline([('rfi_fs', RFIFeatureSelector()),\n",
    "                    ('rf', rf_regressor)])\n",
    "\n",
    "depths = np.arange(1, 10)\n",
    "\n",
    "\n",
    "\n",
    "params_pipe_RF = {'rfi_fs__n_features_': [15],                  \n",
    "                  'rf__max_depth': depths, \n",
    "                  'n_estimators':[400, 600, 800],\n",
    "                   'rf__min_samples_split': [2,3,4,5,6]}\n",
    " \n",
    "\n",
    "\n",
    "gs_pipe_RF  = GridSearchCV(estimator=pipe_RF, \n",
    "                           param_grid=params_pipe_RF, \n",
    "                           cv=5,\n",
    "                           n_jobs=-1,\n",
    "                           scoring= 'neg_mean_squared_error', \n",
    "                           verbose=1)\n",
    "\n",
    "gs_pipe_RF.fit(x_train, y_train);"
   ]
  },
  {
   "cell_type": "code",
   "execution_count": null,
   "metadata": {},
   "outputs": [],
   "source": [
    "gs_pipe_RF.best_params_"
   ]
  },
  {
   "cell_type": "code",
   "execution_count": null,
   "metadata": {},
   "outputs": [],
   "source": [
    "gs_pipe_RF.best_score_"
   ]
  },
  {
   "cell_type": "code",
   "execution_count": null,
   "metadata": {},
   "outputs": [],
   "source": [
    "from sklearn.model_selection import cross_val_score\n",
    "cv_results_dt = np.sqrt(-cross_val_score(gs_pipe_RF, feature_scaled, target, scoring='neg_mean_squared_error'))\n",
    "print(\"RMSE: %0.2f (+/- %0.2f)\" % (cv_results_rf.mean(), cv_results_rf.std() * 2))"
   ]
  },
  {
   "cell_type": "code",
   "execution_count": null,
   "metadata": {},
   "outputs": [],
   "source": [
    "df_deploy = pd.read_csv(\"C:/Users/saurabh/Desktop/Kaggle/googleAd/advertising_test.csv\", na_values=['?'])"
   ]
  },
  {
   "cell_type": "code",
   "execution_count": null,
   "metadata": {},
   "outputs": [],
   "source": [
    "df_deploy.head()"
   ]
  },
  {
   "cell_type": "code",
   "execution_count": null,
   "metadata": {},
   "outputs": [],
   "source": [
    "df_deploy.describe()"
   ]
  },
  {
   "cell_type": "code",
   "execution_count": null,
   "metadata": {},
   "outputs": [],
   "source": [
    "df_deploy[\"deviceType\"] = df_deploy[\"deviceType\"].astype('category')\n",
    "df_deploy[\"day\"] = df_deploy[\"day\"].astype('category')\n",
    "df_deploy[\"countryId\"] = df_deploy[\"countryId\"].astype('category')\n",
    "df_deploy[\"companyId\"] = df_deploy[\"companyId\"].astype('category')"
   ]
  },
  {
   "cell_type": "code",
   "execution_count": null,
   "metadata": {},
   "outputs": [],
   "source": [
    "df_deploy['IR_Ratio'] = df_deploy['impression']/df_deploy['requests']"
   ]
  },
  {
   "cell_type": "code",
   "execution_count": null,
   "metadata": {},
   "outputs": [],
   "source": [
    "df_deploy['ctr'] = reject_outliers(df_deploy['ctr'] )\n",
    "df_deploy['price1'] = reject_outliers(df_deploy['price1'])\n",
    "df_deploy['price2'] = reject_outliers(df_deploy['price2'])\n",
    "df_deploy['price3'] = reject_outliers(df_deploy['price3'])\n",
    "df_deploy['viewability'] = reject_outliers(df_deploy['viewability'])\n",
    "df_deploy['ratio1'] = reject_outliers(df_deploy['ratio1'])\n",
    "df_deploy['ratio2'] = reject_outliers(df_deploy['ratio2'])\n",
    "df_deploy['ratio3'] = reject_outliers(df_deploy['ratio3'])\n",
    "df_deploy['ratio4'] = reject_outliers(df_deploy['ratio4'])\n",
    "df_deploy['cpc'] = reject_outliers(df_deploy['cpc'])\n",
    "df_deploy['IR_Ratio'] = reject_outliers(df_deploy['IR_Ratio'])\n"
   ]
  },
  {
   "cell_type": "code",
   "execution_count": null,
   "metadata": {},
   "outputs": [],
   "source": [
    "df_deploy.describe()"
   ]
  },
  {
   "cell_type": "code",
   "execution_count": null,
   "metadata": {},
   "outputs": [],
   "source": [
    "features_df_deploy=df_deploy[['deviceType', 'price1', 'price2', 'price3','cpc', 'ctr', 'viewability', 'ratio1', 'ratio2', 'ratio3', 'ratio4','IR_Ratio']].values"
   ]
  },
  {
   "cell_type": "code",
   "execution_count": null,
   "metadata": {},
   "outputs": [],
   "source": [
    "features_df_deploy.shape"
   ]
  },
  {
   "cell_type": "code",
   "execution_count": null,
   "metadata": {},
   "outputs": [],
   "source": [
    "scaler = preprocessing.StandardScaler()\n",
    "features_df_deploy_scaled = scaler.fit_transform(features_df_deploy)"
   ]
  },
  {
   "cell_type": "code",
   "execution_count": null,
   "metadata": {},
   "outputs": [],
   "source": [
    "# In order to visually inspect the pridicted value for y, I have created a dataframe prediction_df\n",
    "prediction_df = pd.DataFrame()\n",
    "prediction = rf_predictor.predict(features_df_deploy_scaled)"
   ]
  },
  {
   "cell_type": "code",
   "execution_count": null,
   "metadata": {},
   "outputs": [],
   "source": [
    "prediction_df['y'] = prediction\n",
    "case_id = range(1, 1+len(prediction_df))\n",
    "prediction_df.insert(0, \"case_id\", case_id, True) \n",
    "prediction_df.head(10)"
   ]
  },
  {
   "cell_type": "code",
   "execution_count": null,
   "metadata": {},
   "outputs": [],
   "source": [
    "prediction_df.to_csv(\"C:/Users/saurabh/Desktop/prediction_google_ad.csv\")"
   ]
  },
  {
   "cell_type": "markdown",
   "metadata": {},
   "source": [
    "from sklearn.ensemble import RandomForestRegressor\n",
    "\n",
    "from sklearn.model_selection import GridSearchCV\n",
    "\n",
    "random_Regressor = rfr\n",
    "\n",
    "parameters = {'bootstrap': [True, False],\n",
    "              'max_features':['auto', 'sqrt', 'log2'],\n",
    "              'n_estimators':[400, 600, 800, 1000, 1200, 1400, 1600, 1800, 2000],\n",
    "              'max_depth' : [10, 20, 30, 40, 50, 60, 70, 80, 90, 100, None],\n",
    "             }\n",
    "\n",
    "random_grid = GridSearchCV(rfr, param_grid = parameters, scoring = 'accuracy', cv = 5)\n",
    "random_grid.fit(x_train, y_train)\n",
    "\n",
    "#random_grid\n",
    "\n",
    "CV_random_Regressor.best_params_\n",
    "\n",
    "best_grid = grid_search.best_estimator_\n",
    "grid_accuracy = evaluate(best_grid, x_test, y_test)"
   ]
  },
  {
   "cell_type": "markdown",
   "metadata": {},
   "source": [
    "from skl# Create dummy features for categorical values via one-hot encoding\n",
    "print(\"NAs for categorical features in train : \" + str(train_cat.isnull().values.sum()))\n",
    "train_cat = pd.get_dummies(train_cat)\n",
    "print(\"Remaining NAs for categorical features in train : \" + str(train_cat.isnull().values.sum()))earn.model_selection import train_test_split\n",
    "x_train, x_test, y_train, y_test = train_test_split(x, y, test_size = 0.25) "
   ]
  },
  {
   "cell_type": "markdown",
   "metadata": {},
   "source": [
    "np.random.seed(1234)\n",
    "test_size=[0.05,0.1,0.15,0.2,0.25,0.3,0.35,0.4,0.45, 0.50, 0.60, 0.70, 0.80,0.9]\n",
    "for i in test_size:\n",
    "    x_train, x_test, y_train, y_test = train_test_split(x, y, test_size = i, random_state = 2) \n",
    "    clf = RandomForestRegressor(n_estimators=1200,  max_depth=15,  min_samples_leaf=2, random_state=42)\n",
    "    clf = clf.fit(x_train,y_train)\n",
    "    y_test_pred = clf.predict(x_test)\n",
    "    y_train_pred = clf.predict(x_train)\n",
    "    #clf.score (x_test, y_test)\n",
    "    #y_pred = clf.predict(x_test)\n",
    "    #error = np.sqrt(metrics.mean_squared_error(y_pred, y_test))\n",
    "    #accuracy=clf.score(x_test,y_test)\n",
    "    #print(\"error for test size\",i,\"is\",error ) \n",
    "    print(\"testing error for test size: \",i, \" \" ,np.sqrt(mean_squared_error(y_test_pred, y_test)))\n",
    "    print(\"training error for test size: \",i, \" \",np.sqrt(mean_squared_error(y_train_pred, y_train)))\n",
    "    print()"
   ]
  },
  {
   "cell_type": "markdown",
   "metadata": {},
   "source": [
    "cv_scores = cross_val_score(clf, x_scaled, y, cv=10)\n",
    "print(\"Accuracy: %0.2f (+/- %0.2f)\" % (cv_scores.mean(), cv_scores.std() * 2))"
   ]
  },
  {
   "cell_type": "code",
   "execution_count": null,
   "metadata": {},
   "outputs": [],
   "source": [
    "# random forest"
   ]
  },
  {
   "cell_type": "markdown",
   "metadata": {},
   "source": [
    "np.random.seed(1234)\n",
    "clf = RandomForestRegressor(n_estimators=1200,  max_depth=15,  min_samples_leaf=2, random_state=42)\n",
    "clf = clf.fit(x_train,y_train)\n",
    "y_test_pred = clf.predict(x_test)\n",
    "#np.sqrt(metrics.mean_squared_error(y_pred, y_test.values))\n",
    "# test error\n",
    "print(\"testing error: RMSE \",np.sqrt(mean_squared_error(y_test_pred, y_test)))\n",
    "print(\"testing error: MAE \",(mean_absolute_error(y_test_pred, y_test)))\n",
    "# training error\n",
    "y_train_pred = clf.predict(x_train)\n",
    "#np.sqrt(metrics.mean_squared_error(y_pred, y_test.values))\n",
    "print(\"training error: RMSE \",np.sqrt(mean_squared_error(y_train_pred, y_train)))\n",
    "print(\"training error: MAE\",(mean_absolute_error(y_train_pred, y_train)))"
   ]
  },
  {
   "cell_type": "markdown",
   "metadata": {},
   "source": [
    "# Define error measure for official scoring : RMSE\n",
    "scorer = make_scorer(mean_squared_error, greater_is_better = False)\n",
    "\n",
    "def rmse_cv_train(model):\n",
    "    rmse= np.sqrt(-cross_val_score(model, x_train, y_train, scoring = scorer, cv = 10))\n",
    "    return(rmse)\n",
    "\n",
    "def rmse_cv_test(model):\n",
    "    rmse= np.sqrt(-cross_val_score(model, x_test, y_test, scoring = scorer, cv = 10))\n",
    "    return(rmse)"
   ]
  },
  {
   "cell_type": "markdown",
   "metadata": {},
   "source": [
    "cv_scores = cross_val_score(clf, x, y, cv=10)\n",
    "print(\"Accuracy: %0.2f (+/- %0.2f)\" % (cv_scores.mean(), cv_scores.std() * 2))"
   ]
  },
  {
   "cell_type": "markdown",
   "metadata": {},
   "source": [
    "np.random.seed(1234)\n",
    "clf = DecisionTreeRegressor()\n",
    "clf = clf.fit(x_train,y_train)\n",
    "y_test_pred = clf.predict(x_test)\n",
    "#np.sqrt(metrics.mean_squared_error(y_pred, y_test.values))\n",
    "# test error\n",
    "print(\"test error: \" ,np.sqrt(mean_squared_error(y_test_pred, y_test)))\n",
    "# training error\n",
    "y_train_pred = clf.predict(x_train)\n",
    "#np.sqrt(metrics.mean_squared_error(y_pred, y_test.values))\n",
    "print(\"training error: \" , np.sqrt(mean_squared_error(y_train_pred, y_train)))"
   ]
  },
  {
   "cell_type": "markdown",
   "metadata": {},
   "source": [
    "np.random.seed(1234)\n",
    "clf = RandomForestRegressor()\n",
    "clf = clf.fit(x_train,y_train)\n",
    "#clf.score (x_test,y_test)\n",
    "y_train_pred = clf.predict(x_train)\n",
    "#np.sqrt(metrics.mean_squared_error(y_pred, y_test.values))\n",
    "mean_squared_error(y_train_pred, y_train)"
   ]
  },
  {
   "cell_type": "markdown",
   "metadata": {},
   "source": [
    "# Plot predictions\n",
    "plt.scatter(y_train_pred, y_train, c = \"blue\", marker = \"s\", label = \"Training data\")\n",
    "plt.scatter(y_test_pred, y_test, c = \"lightgreen\", marker = \"s\", label = \"Validation data\")\n",
    "plt.title(\"Linear regression\")\n",
    "plt.xlabel(\"Predicted values\")\n",
    "plt.ylabel(\"Real values\")\n",
    "plt.legend(loc = \"upper left\")\n",
    "plt.plot([10.5, 13.5], [10.5, 13.5], c = \"red\")\n",
    "plt.show()"
   ]
  },
  {
   "cell_type": "markdown",
   "metadata": {},
   "source": [
    "# Load libraries\n",
    "from sklearn.ensemble import AdaBoostRegressor\n",
    "np.random.seed(1234)\n",
    "\n",
    "# Create adaboost classifer object\n",
    "abc =AdaBoostRegressor()\n",
    "\n",
    "# Train Adaboost Classifer\n",
    "model = abc.fit(x_train, y_train)\n",
    "y_train_pred = model.predict(x_train)\n",
    "#np.sqrt(metrics.mean_squared_error(y_pred, y_test.values))\n",
    "mean_squared_error(y_train_pred, y_train)\n",
    "#model.score (x_test, y_test)"
   ]
  },
  {
   "cell_type": "code",
   "execution_count": null,
   "metadata": {},
   "outputs": [],
   "source": []
  },
  {
   "cell_type": "code",
   "execution_count": null,
   "metadata": {},
   "outputs": [],
   "source": [
    "#df_out = pd.merge(df,df[['prediction']],how = 'left',left_index = True, right_index = True)"
   ]
  },
  {
   "cell_type": "code",
   "execution_count": null,
   "metadata": {},
   "outputs": [],
   "source": []
  }
 ],
 "metadata": {
  "kernelspec": {
   "display_name": "Python 3",
   "language": "python",
   "name": "python3"
  },
  "language_info": {
   "codemirror_mode": {
    "name": "ipython",
    "version": 3
   },
   "file_extension": ".py",
   "mimetype": "text/x-python",
   "name": "python",
   "nbconvert_exporter": "python",
   "pygments_lexer": "ipython3",
   "version": "3.7.0"
  }
 },
 "nbformat": 4,
 "nbformat_minor": 2
}
