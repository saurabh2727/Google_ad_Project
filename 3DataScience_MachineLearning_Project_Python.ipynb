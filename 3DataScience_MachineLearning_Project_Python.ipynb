{
 "cells": [
  {
   "cell_type": "code",
   "execution_count": 1,
   "metadata": {},
   "outputs": [],
   "source": [
    "# import packages"
   ]
  },
  {
   "cell_type": "code",
   "execution_count": 2,
   "metadata": {},
   "outputs": [],
   "source": [
    "import os\n",
    "import numpy as np\n",
    "import pandas as pd\n",
    "import matplotlib.pyplot as plt\n",
    "import seaborn as sns\n",
    "import warnings\n",
    "warnings.filterwarnings(\"ignore\")\n",
    "from sklearn.model_selection import cross_val_score\n",
    "from sklearn.preprocessing import LabelEncoder\n",
    "from sklearn.model_selection import train_test_split\n",
    "from sklearn.tree import DecisionTreeRegressor\n",
    "from sklearn import preprocessing\n",
    "from sklearn.ensemble import RandomForestRegressor\n",
    "from sklearn.metrics import mean_squared_error\n",
    "from sklearn.metrics import mean_absolute_error"
   ]
  },
  {
   "cell_type": "code",
   "execution_count": 3,
   "metadata": {},
   "outputs": [],
   "source": [
    "# Change directory to current "
   ]
  },
  {
   "cell_type": "code",
   "execution_count": 4,
   "metadata": {},
   "outputs": [],
   "source": [
    "os.chdir('C:/Users/saurabh/Desktop/Project for github')"
   ]
  },
  {
   "cell_type": "code",
   "execution_count": 5,
   "metadata": {},
   "outputs": [],
   "source": [
    "#Read the file using pandas"
   ]
  },
  {
   "cell_type": "code",
   "execution_count": 6,
   "metadata": {},
   "outputs": [],
   "source": [
    "df = pd.read_csv(\"advertising_train.csv\")"
   ]
  },
  {
   "cell_type": "code",
   "execution_count": 7,
   "metadata": {},
   "outputs": [],
   "source": [
    "# explore the dataframe in following 5 cells"
   ]
  },
  {
   "cell_type": "code",
   "execution_count": 8,
   "metadata": {},
   "outputs": [
    {
     "data": {
      "text/plain": [
       "Index(['case_id', 'companyId', 'countryId', 'deviceType', 'day', 'dow',\n",
       "       'price1', 'price2', 'price3', 'ad_area', 'ad_ratio', 'requests',\n",
       "       'impression', 'cpc', 'ctr', 'viewability', 'ratio1', 'ratio2', 'ratio3',\n",
       "       'ratio4', 'ratio5', 'y'],\n",
       "      dtype='object')"
      ]
     },
     "execution_count": 8,
     "metadata": {},
     "output_type": "execute_result"
    }
   ],
   "source": [
    "df.columns"
   ]
  },
  {
   "cell_type": "code",
   "execution_count": 9,
   "metadata": {},
   "outputs": [
    {
     "data": {
      "text/html": [
       "<div>\n",
       "<style scoped>\n",
       "    .dataframe tbody tr th:only-of-type {\n",
       "        vertical-align: middle;\n",
       "    }\n",
       "\n",
       "    .dataframe tbody tr th {\n",
       "        vertical-align: top;\n",
       "    }\n",
       "\n",
       "    .dataframe thead th {\n",
       "        text-align: right;\n",
       "    }\n",
       "</style>\n",
       "<table border=\"1\" class=\"dataframe\">\n",
       "  <thead>\n",
       "    <tr style=\"text-align: right;\">\n",
       "      <th></th>\n",
       "      <th>case_id</th>\n",
       "      <th>companyId</th>\n",
       "      <th>countryId</th>\n",
       "      <th>deviceType</th>\n",
       "      <th>day</th>\n",
       "      <th>dow</th>\n",
       "      <th>price1</th>\n",
       "      <th>price2</th>\n",
       "      <th>price3</th>\n",
       "      <th>ad_area</th>\n",
       "      <th>...</th>\n",
       "      <th>impression</th>\n",
       "      <th>cpc</th>\n",
       "      <th>ctr</th>\n",
       "      <th>viewability</th>\n",
       "      <th>ratio1</th>\n",
       "      <th>ratio2</th>\n",
       "      <th>ratio3</th>\n",
       "      <th>ratio4</th>\n",
       "      <th>ratio5</th>\n",
       "      <th>y</th>\n",
       "    </tr>\n",
       "  </thead>\n",
       "  <tbody>\n",
       "    <tr>\n",
       "      <th>0</th>\n",
       "      <td>1</td>\n",
       "      <td>95</td>\n",
       "      <td>234</td>\n",
       "      <td>1</td>\n",
       "      <td>1</td>\n",
       "      <td>Saturday</td>\n",
       "      <td>0.11</td>\n",
       "      <td>0.30</td>\n",
       "      <td>0.6000</td>\n",
       "      <td>7.5000</td>\n",
       "      <td>...</td>\n",
       "      <td>4350</td>\n",
       "      <td>0.6291</td>\n",
       "      <td>0.0011</td>\n",
       "      <td>0.0557</td>\n",
       "      <td>0.8630</td>\n",
       "      <td>0.4811</td>\n",
       "      <td>0.0646</td>\n",
       "      <td>0.3097</td>\n",
       "      <td>0.6257</td>\n",
       "      <td>0.250111</td>\n",
       "    </tr>\n",
       "    <tr>\n",
       "      <th>1</th>\n",
       "      <td>2</td>\n",
       "      <td>43</td>\n",
       "      <td>57</td>\n",
       "      <td>2</td>\n",
       "      <td>1</td>\n",
       "      <td>Saturday</td>\n",
       "      <td>0.00</td>\n",
       "      <td>0.00</td>\n",
       "      <td>0.0000</td>\n",
       "      <td>24.2500</td>\n",
       "      <td>...</td>\n",
       "      <td>1023</td>\n",
       "      <td>0.1887</td>\n",
       "      <td>0.0039</td>\n",
       "      <td>0.4495</td>\n",
       "      <td>1.0000</td>\n",
       "      <td>0.6109</td>\n",
       "      <td>1.0000</td>\n",
       "      <td>0.0000</td>\n",
       "      <td>0.0000</td>\n",
       "      <td>0.816571</td>\n",
       "    </tr>\n",
       "    <tr>\n",
       "      <th>2</th>\n",
       "      <td>3</td>\n",
       "      <td>43</td>\n",
       "      <td>57</td>\n",
       "      <td>2</td>\n",
       "      <td>1</td>\n",
       "      <td>Saturday</td>\n",
       "      <td>0.78</td>\n",
       "      <td>1.10</td>\n",
       "      <td>2.1786</td>\n",
       "      <td>24.2500</td>\n",
       "      <td>...</td>\n",
       "      <td>0</td>\n",
       "      <td>0.0000</td>\n",
       "      <td>0.0000</td>\n",
       "      <td>0.0000</td>\n",
       "      <td>0.0000</td>\n",
       "      <td>0.0000</td>\n",
       "      <td>0.0000</td>\n",
       "      <td>0.0000</td>\n",
       "      <td>0.0000</td>\n",
       "      <td>1.035484</td>\n",
       "    </tr>\n",
       "    <tr>\n",
       "      <th>3</th>\n",
       "      <td>4</td>\n",
       "      <td>43</td>\n",
       "      <td>57</td>\n",
       "      <td>2</td>\n",
       "      <td>1</td>\n",
       "      <td>Saturday</td>\n",
       "      <td>0.78</td>\n",
       "      <td>1.10</td>\n",
       "      <td>2.1786</td>\n",
       "      <td>24.2500</td>\n",
       "      <td>...</td>\n",
       "      <td>1038</td>\n",
       "      <td>0.5028</td>\n",
       "      <td>0.0019</td>\n",
       "      <td>0.1883</td>\n",
       "      <td>0.6474</td>\n",
       "      <td>0.9595</td>\n",
       "      <td>1.0000</td>\n",
       "      <td>0.0000</td>\n",
       "      <td>0.0000</td>\n",
       "      <td>0.351807</td>\n",
       "    </tr>\n",
       "    <tr>\n",
       "      <th>4</th>\n",
       "      <td>5</td>\n",
       "      <td>43</td>\n",
       "      <td>29</td>\n",
       "      <td>2</td>\n",
       "      <td>1</td>\n",
       "      <td>Saturday</td>\n",
       "      <td>4.56</td>\n",
       "      <td>4.56</td>\n",
       "      <td>4.5626</td>\n",
       "      <td>0.0001</td>\n",
       "      <td>...</td>\n",
       "      <td>27</td>\n",
       "      <td>0.0093</td>\n",
       "      <td>0.4444</td>\n",
       "      <td>0.8750</td>\n",
       "      <td>1.0000</td>\n",
       "      <td>1.0000</td>\n",
       "      <td>1.0000</td>\n",
       "      <td>0.0000</td>\n",
       "      <td>0.0000</td>\n",
       "      <td>0.067901</td>\n",
       "    </tr>\n",
       "  </tbody>\n",
       "</table>\n",
       "<p>5 rows × 22 columns</p>\n",
       "</div>"
      ],
      "text/plain": [
       "   case_id  companyId  countryId  deviceType  day       dow  price1  price2  \\\n",
       "0        1         95        234           1    1  Saturday    0.11    0.30   \n",
       "1        2         43         57           2    1  Saturday    0.00    0.00   \n",
       "2        3         43         57           2    1  Saturday    0.78    1.10   \n",
       "3        4         43         57           2    1  Saturday    0.78    1.10   \n",
       "4        5         43         29           2    1  Saturday    4.56    4.56   \n",
       "\n",
       "   price3  ad_area  ...  impression     cpc     ctr  viewability  ratio1  \\\n",
       "0  0.6000   7.5000  ...        4350  0.6291  0.0011       0.0557  0.8630   \n",
       "1  0.0000  24.2500  ...        1023  0.1887  0.0039       0.4495  1.0000   \n",
       "2  2.1786  24.2500  ...           0  0.0000  0.0000       0.0000  0.0000   \n",
       "3  2.1786  24.2500  ...        1038  0.5028  0.0019       0.1883  0.6474   \n",
       "4  4.5626   0.0001  ...          27  0.0093  0.4444       0.8750  1.0000   \n",
       "\n",
       "   ratio2  ratio3  ratio4  ratio5         y  \n",
       "0  0.4811  0.0646  0.3097  0.6257  0.250111  \n",
       "1  0.6109  1.0000  0.0000  0.0000  0.816571  \n",
       "2  0.0000  0.0000  0.0000  0.0000  1.035484  \n",
       "3  0.9595  1.0000  0.0000  0.0000  0.351807  \n",
       "4  1.0000  1.0000  0.0000  0.0000  0.067901  \n",
       "\n",
       "[5 rows x 22 columns]"
      ]
     },
     "execution_count": 9,
     "metadata": {},
     "output_type": "execute_result"
    }
   ],
   "source": [
    "df.head()"
   ]
  },
  {
   "cell_type": "code",
   "execution_count": 10,
   "metadata": {},
   "outputs": [
    {
     "data": {
      "text/plain": [
       "case_id        0\n",
       "companyId      0\n",
       "countryId      0\n",
       "deviceType     0\n",
       "day            0\n",
       "dow            0\n",
       "price1         0\n",
       "price2         0\n",
       "price3         0\n",
       "ad_area        0\n",
       "ad_ratio       0\n",
       "requests       0\n",
       "impression     0\n",
       "cpc            0\n",
       "ctr            0\n",
       "viewability    0\n",
       "ratio1         0\n",
       "ratio2         0\n",
       "ratio3         0\n",
       "ratio4         0\n",
       "ratio5         0\n",
       "y              0\n",
       "dtype: int64"
      ]
     },
     "execution_count": 10,
     "metadata": {},
     "output_type": "execute_result"
    }
   ],
   "source": [
    "df.isnull().sum()"
   ]
  },
  {
   "cell_type": "code",
   "execution_count": 11,
   "metadata": {},
   "outputs": [
    {
     "data": {
      "text/html": [
       "<div>\n",
       "<style scoped>\n",
       "    .dataframe tbody tr th:only-of-type {\n",
       "        vertical-align: middle;\n",
       "    }\n",
       "\n",
       "    .dataframe tbody tr th {\n",
       "        vertical-align: top;\n",
       "    }\n",
       "\n",
       "    .dataframe thead th {\n",
       "        text-align: right;\n",
       "    }\n",
       "</style>\n",
       "<table border=\"1\" class=\"dataframe\">\n",
       "  <thead>\n",
       "    <tr style=\"text-align: right;\">\n",
       "      <th></th>\n",
       "      <th>case_id</th>\n",
       "      <th>companyId</th>\n",
       "      <th>countryId</th>\n",
       "      <th>deviceType</th>\n",
       "      <th>day</th>\n",
       "      <th>price1</th>\n",
       "      <th>price2</th>\n",
       "      <th>price3</th>\n",
       "      <th>ad_area</th>\n",
       "      <th>ad_ratio</th>\n",
       "      <th>...</th>\n",
       "      <th>impression</th>\n",
       "      <th>cpc</th>\n",
       "      <th>ctr</th>\n",
       "      <th>viewability</th>\n",
       "      <th>ratio1</th>\n",
       "      <th>ratio2</th>\n",
       "      <th>ratio3</th>\n",
       "      <th>ratio4</th>\n",
       "      <th>ratio5</th>\n",
       "      <th>y</th>\n",
       "    </tr>\n",
       "  </thead>\n",
       "  <tbody>\n",
       "    <tr>\n",
       "      <th>count</th>\n",
       "      <td>214128.000000</td>\n",
       "      <td>214128.000000</td>\n",
       "      <td>214128.000000</td>\n",
       "      <td>214128.000000</td>\n",
       "      <td>214128.000000</td>\n",
       "      <td>214128.000000</td>\n",
       "      <td>214128.000000</td>\n",
       "      <td>214128.000000</td>\n",
       "      <td>214128.000000</td>\n",
       "      <td>214128.000000</td>\n",
       "      <td>...</td>\n",
       "      <td>2.141280e+05</td>\n",
       "      <td>214128.000000</td>\n",
       "      <td>214128.000000</td>\n",
       "      <td>214128.000000</td>\n",
       "      <td>214128.000000</td>\n",
       "      <td>214128.000000</td>\n",
       "      <td>214128.000000</td>\n",
       "      <td>214128.000000</td>\n",
       "      <td>214128.000000</td>\n",
       "      <td>214128.000000</td>\n",
       "    </tr>\n",
       "    <tr>\n",
       "      <th>mean</th>\n",
       "      <td>107064.500000</td>\n",
       "      <td>73.332988</td>\n",
       "      <td>119.496180</td>\n",
       "      <td>1.875612</td>\n",
       "      <td>15.790522</td>\n",
       "      <td>0.438229</td>\n",
       "      <td>0.630178</td>\n",
       "      <td>0.932436</td>\n",
       "      <td>4.724445</td>\n",
       "      <td>0.923402</td>\n",
       "      <td>...</td>\n",
       "      <td>5.585714e+03</td>\n",
       "      <td>0.177862</td>\n",
       "      <td>0.032921</td>\n",
       "      <td>0.377929</td>\n",
       "      <td>0.558284</td>\n",
       "      <td>0.491079</td>\n",
       "      <td>0.311646</td>\n",
       "      <td>0.131008</td>\n",
       "      <td>0.188300</td>\n",
       "      <td>0.847004</td>\n",
       "    </tr>\n",
       "    <tr>\n",
       "      <th>std</th>\n",
       "      <td>61813.573558</td>\n",
       "      <td>47.817556</td>\n",
       "      <td>76.129206</td>\n",
       "      <td>0.787796</td>\n",
       "      <td>8.385557</td>\n",
       "      <td>1.281403</td>\n",
       "      <td>1.481552</td>\n",
       "      <td>1.839991</td>\n",
       "      <td>6.273410</td>\n",
       "      <td>0.482055</td>\n",
       "      <td>...</td>\n",
       "      <td>9.871334e+04</td>\n",
       "      <td>0.707260</td>\n",
       "      <td>0.092502</td>\n",
       "      <td>0.365938</td>\n",
       "      <td>0.446955</td>\n",
       "      <td>0.414312</td>\n",
       "      <td>0.444088</td>\n",
       "      <td>0.239758</td>\n",
       "      <td>0.297121</td>\n",
       "      <td>1.390593</td>\n",
       "    </tr>\n",
       "    <tr>\n",
       "      <th>min</th>\n",
       "      <td>1.000000</td>\n",
       "      <td>40.000000</td>\n",
       "      <td>1.000000</td>\n",
       "      <td>1.000000</td>\n",
       "      <td>1.000000</td>\n",
       "      <td>0.000000</td>\n",
       "      <td>0.000000</td>\n",
       "      <td>0.000000</td>\n",
       "      <td>0.000100</td>\n",
       "      <td>0.083330</td>\n",
       "      <td>...</td>\n",
       "      <td>0.000000e+00</td>\n",
       "      <td>0.000000</td>\n",
       "      <td>0.000000</td>\n",
       "      <td>0.000000</td>\n",
       "      <td>0.000000</td>\n",
       "      <td>0.000000</td>\n",
       "      <td>0.000000</td>\n",
       "      <td>0.000000</td>\n",
       "      <td>0.000000</td>\n",
       "      <td>0.000098</td>\n",
       "    </tr>\n",
       "    <tr>\n",
       "      <th>25%</th>\n",
       "      <td>53532.750000</td>\n",
       "      <td>43.000000</td>\n",
       "      <td>56.000000</td>\n",
       "      <td>1.000000</td>\n",
       "      <td>9.000000</td>\n",
       "      <td>0.000000</td>\n",
       "      <td>0.000000</td>\n",
       "      <td>0.000000</td>\n",
       "      <td>0.000100</td>\n",
       "      <td>0.833330</td>\n",
       "      <td>...</td>\n",
       "      <td>0.000000e+00</td>\n",
       "      <td>0.000000</td>\n",
       "      <td>0.000000</td>\n",
       "      <td>0.000000</td>\n",
       "      <td>0.000000</td>\n",
       "      <td>0.000000</td>\n",
       "      <td>0.000000</td>\n",
       "      <td>0.000000</td>\n",
       "      <td>0.000000</td>\n",
       "      <td>0.150415</td>\n",
       "    </tr>\n",
       "    <tr>\n",
       "      <th>50%</th>\n",
       "      <td>107064.500000</td>\n",
       "      <td>43.000000</td>\n",
       "      <td>102.000000</td>\n",
       "      <td>2.000000</td>\n",
       "      <td>16.000000</td>\n",
       "      <td>0.010000</td>\n",
       "      <td>0.090000</td>\n",
       "      <td>0.294800</td>\n",
       "      <td>0.000100</td>\n",
       "      <td>1.000000</td>\n",
       "      <td>...</td>\n",
       "      <td>9.900000e+01</td>\n",
       "      <td>0.015700</td>\n",
       "      <td>0.001700</td>\n",
       "      <td>0.331500</td>\n",
       "      <td>0.750000</td>\n",
       "      <td>0.627100</td>\n",
       "      <td>0.027600</td>\n",
       "      <td>0.000000</td>\n",
       "      <td>0.000000</td>\n",
       "      <td>0.419000</td>\n",
       "    </tr>\n",
       "    <tr>\n",
       "      <th>75%</th>\n",
       "      <td>160596.250000</td>\n",
       "      <td>95.000000</td>\n",
       "      <td>197.000000</td>\n",
       "      <td>2.000000</td>\n",
       "      <td>23.000000</td>\n",
       "      <td>0.190000</td>\n",
       "      <td>0.570000</td>\n",
       "      <td>0.985650</td>\n",
       "      <td>7.500000</td>\n",
       "      <td>1.000000</td>\n",
       "      <td>...</td>\n",
       "      <td>1.058000e+03</td>\n",
       "      <td>0.125200</td>\n",
       "      <td>0.012000</td>\n",
       "      <td>0.715900</td>\n",
       "      <td>1.000000</td>\n",
       "      <td>0.895700</td>\n",
       "      <td>1.000000</td>\n",
       "      <td>0.163600</td>\n",
       "      <td>0.384700</td>\n",
       "      <td>0.959048</td>\n",
       "    </tr>\n",
       "    <tr>\n",
       "      <th>max</th>\n",
       "      <td>214128.000000</td>\n",
       "      <td>159.000000</td>\n",
       "      <td>251.000000</td>\n",
       "      <td>5.000000</td>\n",
       "      <td>30.000000</td>\n",
       "      <td>14.690000</td>\n",
       "      <td>63.120000</td>\n",
       "      <td>78.900000</td>\n",
       "      <td>36.000000</td>\n",
       "      <td>5.000000</td>\n",
       "      <td>...</td>\n",
       "      <td>6.100324e+06</td>\n",
       "      <td>132.533900</td>\n",
       "      <td>2.000000</td>\n",
       "      <td>7.000000</td>\n",
       "      <td>1.000000</td>\n",
       "      <td>1.027000</td>\n",
       "      <td>1.500000</td>\n",
       "      <td>1.076900</td>\n",
       "      <td>1.200000</td>\n",
       "      <td>47.060000</td>\n",
       "    </tr>\n",
       "  </tbody>\n",
       "</table>\n",
       "<p>8 rows × 21 columns</p>\n",
       "</div>"
      ],
      "text/plain": [
       "             case_id      companyId      countryId     deviceType  \\\n",
       "count  214128.000000  214128.000000  214128.000000  214128.000000   \n",
       "mean   107064.500000      73.332988     119.496180       1.875612   \n",
       "std     61813.573558      47.817556      76.129206       0.787796   \n",
       "min         1.000000      40.000000       1.000000       1.000000   \n",
       "25%     53532.750000      43.000000      56.000000       1.000000   \n",
       "50%    107064.500000      43.000000     102.000000       2.000000   \n",
       "75%    160596.250000      95.000000     197.000000       2.000000   \n",
       "max    214128.000000     159.000000     251.000000       5.000000   \n",
       "\n",
       "                 day         price1         price2         price3  \\\n",
       "count  214128.000000  214128.000000  214128.000000  214128.000000   \n",
       "mean       15.790522       0.438229       0.630178       0.932436   \n",
       "std         8.385557       1.281403       1.481552       1.839991   \n",
       "min         1.000000       0.000000       0.000000       0.000000   \n",
       "25%         9.000000       0.000000       0.000000       0.000000   \n",
       "50%        16.000000       0.010000       0.090000       0.294800   \n",
       "75%        23.000000       0.190000       0.570000       0.985650   \n",
       "max        30.000000      14.690000      63.120000      78.900000   \n",
       "\n",
       "             ad_area       ad_ratio  ...    impression            cpc  \\\n",
       "count  214128.000000  214128.000000  ...  2.141280e+05  214128.000000   \n",
       "mean        4.724445       0.923402  ...  5.585714e+03       0.177862   \n",
       "std         6.273410       0.482055  ...  9.871334e+04       0.707260   \n",
       "min         0.000100       0.083330  ...  0.000000e+00       0.000000   \n",
       "25%         0.000100       0.833330  ...  0.000000e+00       0.000000   \n",
       "50%         0.000100       1.000000  ...  9.900000e+01       0.015700   \n",
       "75%         7.500000       1.000000  ...  1.058000e+03       0.125200   \n",
       "max        36.000000       5.000000  ...  6.100324e+06     132.533900   \n",
       "\n",
       "                 ctr    viewability         ratio1         ratio2  \\\n",
       "count  214128.000000  214128.000000  214128.000000  214128.000000   \n",
       "mean        0.032921       0.377929       0.558284       0.491079   \n",
       "std         0.092502       0.365938       0.446955       0.414312   \n",
       "min         0.000000       0.000000       0.000000       0.000000   \n",
       "25%         0.000000       0.000000       0.000000       0.000000   \n",
       "50%         0.001700       0.331500       0.750000       0.627100   \n",
       "75%         0.012000       0.715900       1.000000       0.895700   \n",
       "max         2.000000       7.000000       1.000000       1.027000   \n",
       "\n",
       "              ratio3         ratio4         ratio5              y  \n",
       "count  214128.000000  214128.000000  214128.000000  214128.000000  \n",
       "mean        0.311646       0.131008       0.188300       0.847004  \n",
       "std         0.444088       0.239758       0.297121       1.390593  \n",
       "min         0.000000       0.000000       0.000000       0.000098  \n",
       "25%         0.000000       0.000000       0.000000       0.150415  \n",
       "50%         0.027600       0.000000       0.000000       0.419000  \n",
       "75%         1.000000       0.163600       0.384700       0.959048  \n",
       "max         1.500000       1.076900       1.200000      47.060000  \n",
       "\n",
       "[8 rows x 21 columns]"
      ]
     },
     "execution_count": 11,
     "metadata": {},
     "output_type": "execute_result"
    }
   ],
   "source": [
    "df.describe()"
   ]
  },
  {
   "cell_type": "code",
   "execution_count": 12,
   "metadata": {},
   "outputs": [
    {
     "data": {
      "text/plain": [
       "case_id          int64\n",
       "companyId        int64\n",
       "countryId        int64\n",
       "deviceType       int64\n",
       "day              int64\n",
       "dow             object\n",
       "price1         float64\n",
       "price2         float64\n",
       "price3         float64\n",
       "ad_area        float64\n",
       "ad_ratio       float64\n",
       "requests         int64\n",
       "impression       int64\n",
       "cpc            float64\n",
       "ctr            float64\n",
       "viewability    float64\n",
       "ratio1         float64\n",
       "ratio2         float64\n",
       "ratio3         float64\n",
       "ratio4         float64\n",
       "ratio5         float64\n",
       "y              float64\n",
       "dtype: object"
      ]
     },
     "execution_count": 12,
     "metadata": {},
     "output_type": "execute_result"
    }
   ],
   "source": [
    "df.dtypes"
   ]
  },
  {
   "cell_type": "code",
   "execution_count": 13,
   "metadata": {},
   "outputs": [],
   "source": [
    "# investigate the datatypes"
   ]
  },
  {
   "cell_type": "code",
   "execution_count": 14,
   "metadata": {},
   "outputs": [],
   "source": [
    "df[\"deviceType\"] = df[\"deviceType\"].astype('category')\n",
    "df[\"day\"] = df[\"day\"].astype('category')\n",
    "df[\"case_id\"] = df[\"case_id\"].astype('category')\n",
    "df[\"countryId\"] = df[\"countryId\"].astype('category')\n",
    "df[\"companyId\"] = df[\"companyId\"].astype('category')"
   ]
  },
  {
   "cell_type": "code",
   "execution_count": 15,
   "metadata": {},
   "outputs": [],
   "source": [
    "# visualize the column \"deviceType\" to check its distribution"
   ]
  },
  {
   "cell_type": "code",
   "execution_count": 16,
   "metadata": {},
   "outputs": [
    {
     "data": {
      "image/png": "[encoded data removed]",
      "text/plain": [
       "<Figure size 1152x576 with 1 Axes>"
      ]
     },
     "metadata": {
      "needs_background": "light"
     },
     "output_type": "display_data"
    }
   ],
   "source": [
    "fig, ax = plt.subplots(figsize=(16,8))\n",
    "ax.scatter(df['deviceType'], df['y'])\n",
    "ax.set_xlabel('deviceType')\n",
    "ax.set_ylabel('y')\n",
    "plt.show()"
   ]
  },
  {
   "cell_type": "code",
   "execution_count": 17,
   "metadata": {},
   "outputs": [
    {
     "name": "stdout",
     "output_type": "stream",
     "text": [
      "Find most important features relative to target\n",
      "y              1.000000\n",
      "ctr            0.197221\n",
      "price3         0.175244\n",
      "price2         0.159668\n",
      "viewability    0.158794\n",
      "price1         0.128919\n",
      "ratio1         0.072412\n",
      "ratio3         0.069926\n",
      "ratio4         0.042551\n",
      "cpc            0.017002\n",
      "ratio2         0.012939\n",
      "impression    -0.024683\n",
      "ad_ratio      -0.027756\n",
      "requests      -0.029436\n",
      "ad_area       -0.049349\n",
      "ratio5        -0.063455\n",
      "Name: y, dtype: float64\n"
     ]
    }
   ],
   "source": [
    "# Find most important features relative to target\n",
    "print(\"Find most important features relative to target\")\n",
    "corr = df.corr()\n",
    "corr.sort_values([\"y\"], ascending = False, inplace = True)\n",
    "print(corr.y)"
   ]
  },
  {
   "cell_type": "code",
   "execution_count": 18,
   "metadata": {},
   "outputs": [],
   "source": [
    "# As the column impression and request have low corelation with the target varible,\n",
    "# we may check the corelation again if we combine both the variables"
   ]
  },
  {
   "cell_type": "code",
   "execution_count": 19,
   "metadata": {},
   "outputs": [],
   "source": [
    "df['IR_Ratio'] = df['impression']/df['requests']"
   ]
  },
  {
   "cell_type": "code",
   "execution_count": 20,
   "metadata": {},
   "outputs": [],
   "source": [
    "# drop the undired columns"
   ]
  },
  {
   "cell_type": "code",
   "execution_count": 21,
   "metadata": {},
   "outputs": [],
   "source": [
    "df= df.drop([ 'case_id','companyId','countryId','day', 'dow', 'impression', 'requests', 'ad_area', 'ad_ratio', 'ratio5'], axis =1)"
   ]
  },
  {
   "cell_type": "code",
   "execution_count": 22,
   "metadata": {},
   "outputs": [],
   "source": [
    "# remove the ouliers by keeping 1.5 standard deviation from the mean"
   ]
  },
  {
   "cell_type": "code",
   "execution_count": 23,
   "metadata": {},
   "outputs": [],
   "source": [
    "def reject_outliers(data):\n",
    "    u = np.mean(data)\n",
    "    s = np.std(data)\n",
    "    f1 = u - 1.5*s\n",
    "    f2 = u + 1.5*s\n",
    "    filtered = np.where(data.between(f1,f2),data, data.median())\n",
    "    return filtered\n",
    "\n",
    "df['ctr'] = reject_outliers(df['ctr'])\n",
    "df['price1'] = reject_outliers(df['price1'])\n",
    "df['price2'] = reject_outliers(df['price2'])\n",
    "df['price3'] = reject_outliers(df['price3'] )\n",
    "df['viewability'] = reject_outliers(df['viewability'] )\n",
    "df['ratio1'] = reject_outliers(df['ratio1'])\n",
    "df['ratio2'] = reject_outliers(df['ratio2'])\n",
    "df['ratio3'] = reject_outliers(df['ratio3'])\n",
    "df['ratio4'] = reject_outliers(df['ratio4'])\n",
    "df['y'] = reject_outliers(df['y'])\n",
    "df['cpc'] = reject_outliers(df['cpc'])\n",
    "df['IR_Ratio'] = reject_outliers(df['IR_Ratio'])"
   ]
  },
  {
   "cell_type": "code",
   "execution_count": 24,
   "metadata": {},
   "outputs": [],
   "source": [
    "# divide variab;es into feature and lable"
   ]
  },
  {
   "cell_type": "code",
   "execution_count": 25,
   "metadata": {},
   "outputs": [],
   "source": [
    "features=df[['deviceType', 'price1', 'price2', 'price3','cpc', 'ctr', 'viewability', 'ratio1', 'ratio2', 'ratio3', 'ratio4','IR_Ratio']].values\n",
    "label=df[['y']].values"
   ]
  },
  {
   "cell_type": "code",
   "execution_count": 26,
   "metadata": {},
   "outputs": [],
   "source": [
    "# scale the variables"
   ]
  },
  {
   "cell_type": "code",
   "execution_count": 27,
   "metadata": {},
   "outputs": [],
   "source": [
    "scaler = preprocessing.StandardScaler()\n",
    "features_scaled = scaler.fit_transform(features)\n",
    "label_scaled = scaler.fit_transform(label)"
   ]
  },
  {
   "cell_type": "code",
   "execution_count": 28,
   "metadata": {},
   "outputs": [],
   "source": [
    "#spliting the training and testing data, keeping 90% for testing and rest for training. I have futher splitted the train \n",
    "# data into validation and training data.\n",
    "from sklearn.model_selection import train_test_split\n",
    "x_train, x_test, y_train, y_test = train_test_split(features_scaled, label_scaled, test_size = 0.05, random_state = 42)"
   ]
  },
  {
   "cell_type": "code",
   "execution_count": 29,
   "metadata": {},
   "outputs": [],
   "source": [
    "# Custom class for random forest importance, which shows lowest RMSE"
   ]
  },
  {
   "cell_type": "code",
   "execution_count": 30,
   "metadata": {},
   "outputs": [],
   "source": [
    "from sklearn.base import BaseEstimator, TransformerMixin\n",
    "\n",
    "# custom function for RFI feature selection inside a pipeline\n",
    "# here we use n_estimators=100\n",
    "class RFIFeatureSelector(BaseEstimator, TransformerMixin):\n",
    "    \n",
    "    # class constructor \n",
    "    # make sure class attributes end with a \"_\"\n",
    "    # per scikit-learn convention to avoid errors\n",
    "    def __init__(self, n_features_=100):\n",
    "        self.n_features_ = n_features_\n",
    "        self.fs_indices_ = None\n",
    "\n",
    "    # override the fit function\n",
    "    def fit(self, X, y):\n",
    "        from sklearn.ensemble import RandomForestRegressor\n",
    "        from numpy import argsort\n",
    "        model_rfi = RandomForestRegressor(n_estimators=10)\n",
    "        model_rfi.fit(X, y)\n",
    "        self.fs_indices_ = argsort(model_rfi.feature_importances_)[::-1][0:self.n_features_] \n",
    "        return self \n",
    "    \n",
    "    # override the transform function\n",
    "    def transform(self, X, y=None):\n",
    "        return X[:, self.fs_indices_]"
   ]
  },
  {
   "cell_type": "code",
   "execution_count": null,
   "metadata": {},
   "outputs": [
    {
     "name": "stdout",
     "output_type": "stream",
     "text": [
      "Fitting 5 folds for each of 45 candidates, totalling 225 fits\n"
     ]
    },
    {
     "name": "stderr",
     "output_type": "stream",
     "text": [
      "[Parallel(n_jobs=-1)]: Using backend LokyBackend with 8 concurrent workers.\n"
     ]
    }
   ],
   "source": [
    "# Random forest model, which calculates root mean squared error and mean absolute error\n",
    "from sklearn.ensemble import RandomForestRegressor\n",
    "from sklearn.pipeline import Pipeline\n",
    "from sklearn.model_selection import GridSearchCV\n",
    "\n",
    "\n",
    "rf_regressor = RandomForestRegressor(random_state=999)\n",
    "\n",
    "pipe_RF = Pipeline([('rfi_fs', RFIFeatureSelector()),\n",
    "                    ('rf', rf_regressor)])\n",
    "\n",
    "depths = np.arange(1, 10)\n",
    "\n",
    "\n",
    "\n",
    "params_pipe_RF = {'rfi_fs__n_features_': [15],                  \n",
    "                  'rf__max_depth': depths,\n",
    "                   'rf__min_samples_split': [2,3,4,5,6]}\n",
    " \n",
    "\n",
    "\n",
    "gs_pipe_RF  = GridSearchCV(estimator=pipe_RF, \n",
    "                           param_grid=params_pipe_RF, \n",
    "                           cv=5,\n",
    "                           n_jobs=-1,\n",
    "                           scoring= 'neg_mean_squared_error', \n",
    "                           verbose=1)\n",
    "\n",
    "gs_pipe_RF.fit(x_train, y_train);"
   ]
  },
  {
   "cell_type": "code",
   "execution_count": null,
   "metadata": {},
   "outputs": [],
   "source": [
    "# check the best parameters of the model and the score"
   ]
  },
  {
   "cell_type": "code",
   "execution_count": null,
   "metadata": {},
   "outputs": [],
   "source": [
    "gs_pipe_RF.best_params_"
   ]
  },
  {
   "cell_type": "code",
   "execution_count": null,
   "metadata": {},
   "outputs": [],
   "source": [
    "gs_pipe_RF.best_score_"
   ]
  },
  {
   "cell_type": "code",
   "execution_count": null,
   "metadata": {},
   "outputs": [],
   "source": [
    "# cross validation"
   ]
  },
  {
   "cell_type": "code",
   "execution_count": null,
   "metadata": {},
   "outputs": [],
   "source": [
    "from sklearn.model_selection import cross_val_score\n",
    "cv_results_dt = np.sqrt(-cross_val_score(gs_pipe_RF, feature_scaled, target, scoring='neg_mean_squared_error'))\n",
    "print(\"RMSE: %0.2f (+/- %0.2f)\" % (cv_results_rf.mean(), cv_results_rf.std() * 2))"
   ]
  },
  {
   "cell_type": "code",
   "execution_count": null,
   "metadata": {},
   "outputs": [],
   "source": [
    "# since the dataset was divided in two parts i.e. train and test set, the following section \n",
    "# uses the same model on test set"
   ]
  },
  {
   "cell_type": "code",
   "execution_count": null,
   "metadata": {},
   "outputs": [],
   "source": [
    "df_deploy = pd.read_csv(\"advertising_test.csv\", na_values=['?'])"
   ]
  },
  {
   "cell_type": "code",
   "execution_count": null,
   "metadata": {},
   "outputs": [],
   "source": [
    "# check the data type"
   ]
  },
  {
   "cell_type": "code",
   "execution_count": null,
   "metadata": {},
   "outputs": [],
   "source": [
    "df_deploy[\"deviceType\"] = df_deploy[\"deviceType\"].astype('category')\n",
    "df_deploy[\"day\"] = df_deploy[\"day\"].astype('category')\n",
    "df_deploy[\"countryId\"] = df_deploy[\"countryId\"].astype('category')\n",
    "df_deploy[\"companyId\"] = df_deploy[\"companyId\"].astype('category')"
   ]
  },
  {
   "cell_type": "code",
   "execution_count": null,
   "metadata": {},
   "outputs": [],
   "source": [
    "# create a new feature "
   ]
  },
  {
   "cell_type": "code",
   "execution_count": null,
   "metadata": {},
   "outputs": [],
   "source": [
    "df_deploy['IR_Ratio'] = df_deploy['impression']/df_deploy['requests']"
   ]
  },
  {
   "cell_type": "code",
   "execution_count": null,
   "metadata": {},
   "outputs": [],
   "source": [
    "# remove outliers"
   ]
  },
  {
   "cell_type": "code",
   "execution_count": null,
   "metadata": {},
   "outputs": [],
   "source": [
    "df_deploy['ctr'] = reject_outliers(df_deploy['ctr'] )\n",
    "df_deploy['price1'] = reject_outliers(df_deploy['price1'])\n",
    "df_deploy['price2'] = reject_outliers(df_deploy['price2'])\n",
    "df_deploy['price3'] = reject_outliers(df_deploy['price3'])\n",
    "df_deploy['viewability'] = reject_outliers(df_deploy['viewability'])\n",
    "df_deploy['ratio1'] = reject_outliers(df_deploy['ratio1'])\n",
    "df_deploy['ratio2'] = reject_outliers(df_deploy['ratio2'])\n",
    "df_deploy['ratio3'] = reject_outliers(df_deploy['ratio3'])\n",
    "df_deploy['ratio4'] = reject_outliers(df_deploy['ratio4'])\n",
    "df_deploy['cpc'] = reject_outliers(df_deploy['cpc'])\n",
    "df_deploy['IR_Ratio'] = reject_outliers(df_deploy['IR_Ratio'])"
   ]
  },
  {
   "cell_type": "code",
   "execution_count": null,
   "metadata": {},
   "outputs": [],
   "source": [
    "# create dataframe for all the required columns"
   ]
  },
  {
   "cell_type": "code",
   "execution_count": null,
   "metadata": {},
   "outputs": [],
   "source": [
    "features_df_deploy=df_deploy[['deviceType', 'price1', 'price2', 'price3','cpc', 'ctr', 'viewability', 'ratio1', 'ratio2', 'ratio3', 'ratio4','IR_Ratio']].values"
   ]
  },
  {
   "cell_type": "code",
   "execution_count": null,
   "metadata": {},
   "outputs": [],
   "source": [
    "# check the shape of the dataframe"
   ]
  },
  {
   "cell_type": "code",
   "execution_count": null,
   "metadata": {},
   "outputs": [],
   "source": [
    "features_df_deploy.shape"
   ]
  },
  {
   "cell_type": "code",
   "execution_count": null,
   "metadata": {},
   "outputs": [],
   "source": [
    "# scale the features"
   ]
  },
  {
   "cell_type": "code",
   "execution_count": null,
   "metadata": {},
   "outputs": [],
   "source": [
    "scaler = preprocessing.StandardScaler()\n",
    "features_df_deploy_scaled = scaler.fit_transform(features_df_deploy)"
   ]
  },
  {
   "cell_type": "code",
   "execution_count": null,
   "metadata": {},
   "outputs": [],
   "source": [
    "# In order to visually inspect the pridicted value for y, I have created a dataframe prediction_df\n",
    "prediction_df = pd.DataFrame()\n",
    "prediction = rf_predictor.predict(features_df_deploy_scaled)"
   ]
  },
  {
   "cell_type": "code",
   "execution_count": null,
   "metadata": {},
   "outputs": [],
   "source": [
    "prediction_df['y'] = prediction\n",
    "case_id = range(1, 1+len(prediction_df))\n",
    "prediction_df.insert(0, \"case_id\", case_id, True) \n",
    "prediction_df.head(10)"
   ]
  },
  {
   "cell_type": "code",
   "execution_count": null,
   "metadata": {},
   "outputs": [],
   "source": [
    "prediction_df.to_csv(\"prediction_google_ad.csv\")"
   ]
  }
 ],
 "metadata": {
  "kernelspec": {
   "display_name": "Python 3",
   "language": "python",
   "name": "python3"
  },
  "language_info": {
   "codemirror_mode": {
    "name": "ipython",
    "version": 3
   },
   "file_extension": ".py",
   "mimetype": "text/x-python",
   "name": "python",
   "nbconvert_exporter": "python",
   "pygments_lexer": "ipython3",
   "version": "3.7.3"
  },
  "toc": {
   "base_numbering": 1,
   "nav_menu": {},
   "number_sections": true,
   "sideBar": true,
   "skip_h1_title": false,
   "title_cell": "Table of Contents",
   "title_sidebar": "Contents",
   "toc_cell": false,
   "toc_position": {},
   "toc_section_display": true,
   "toc_window_display": false
  }
 },
 "nbformat": 4,
 "nbformat_minor": 2
}
